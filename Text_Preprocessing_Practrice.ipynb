{
  "nbformat": 4,
  "nbformat_minor": 0,
  "metadata": {
    "colab": {
      "name": "Topic Modelling Practice.ipynb",
      "provenance": []
    },
    "kernelspec": {
      "name": "python3",
      "display_name": "Python 3"
    }
  },
  "cells": [
    {
      "cell_type": "markdown",
      "metadata": {
        "id": "KaZ4mZaS5R4G"
      },
      "source": [
        "###**Importing Libraries**"
      ]
    },
    {
      "cell_type": "code",
      "metadata": {
        "id": "HnlVTiirNVgN"
      },
      "source": [
        "# # !pip install pdfplumber\r\n",
        "# !pip install textblob\r\n",
        "# !pip install pyspellchecker\r\n",
        "# !pip install gensim\r\n",
        "# !pip install Pattern3\r\n",
        "# # import pdfplumber\r\n",
        "# import re\r\n",
        "# import nltk\r\n",
        "# nltk.download('stopwords')\r\n",
        "# nltk.download('punkt')\r\n",
        "# from nltk.corpus import stopwords\r\n",
        "# from nltk.tokenize import word_tokenize \r\n",
        "# from nltk.stem import WordNetLemmatizer\r\n",
        "# nltk.download('wordnet') \r\n",
        "# from textblob import TextBlob\r\n",
        "# from spellchecker import SpellChecker\r\n",
        "# import spacy\r\n",
        "# from gensim.parsing.preprocessing import remove_stopwords\r\n",
        "# from nltk.stem import PorterStemmer\r\n",
        "# from nltk.stem import WordNetLemmatizer\r\n",
        "# from nltk.stem import WordNetLemmatizer\r\n",
        "# from textblob import TextBlob \r\n",
        "# from textblob import Word \r\n",
        "# from gensim.utils import lemmatize \r\n",
        "# import pattern3\r\n",
        "# from gensim import utils "
      ],
      "execution_count": null,
      "outputs": []
    },
    {
      "cell_type": "markdown",
      "metadata": {
        "id": "fCJ0_irjdNPt"
      },
      "source": [
        "###**Extracting text from pdf**"
      ]
    },
    {
      "cell_type": "code",
      "metadata": {
        "id": "oUfNSrfE8Wft",
        "colab": {
          "base_uri": "https://localhost:8080/"
        },
        "outputId": "369445cc-fba5-43a2-b315-2935e48fe4d2"
      },
      "source": [
        "with pdfplumber.open(r'/content/Highlighted Text.pdf') as pdf:\r\n",
        "    first_page = pdf.pages[0]\r\n",
        "    print(first_page.extract_text())"
      ],
      "execution_count": null,
      "outputs": [
        {
          "output_type": "stream",
          "text": [
            "I ahle ol (l0ntcnts\n",
            "MONGODB, INC.\n",
            "NOTES TO UNAUDITED CONDENSED CONSOLIDATED FINANCIAL STATEMENTS\n",
            "l. \n",
            "Organization and Description ofBusiness\n",
            "MongoDB, Inc. (\"MongoDB\" or the \"Company\") was originally incorporated in the state of Delaware in November 2007 under the name l0Gen, Inc. In\n",
            "August 2013, the Company changed its name to MongoDB, Inc. The Company is headquartered in New York City. MongoDB is the leading, modem, general\n",
            "purpose database platform. The Company's robust platform enables developers to build and modemize applications rapidly and cost-effectively  across a broad\n",
            "range ofuse cases. Organizations can deploy the Company's platform at scale in the cloud, on-premise or in a hybrid environment. In addition to selling its\n",
            "software, the Company provides post-contract support, training and consulting services for its offerings. The Company's fiscal year ends January 3 1.\n",
            "2. Summary of Signilicant Accounting Policies\n",
            "Busi.t ol f't esenlatiou\n",
            "The accompanying interim condensed consolidated balance sheet as of October 31, 2020, the interim condensed consolidated statements of stockholders'\n",
            "equity for the three and nine months ended October 3 I , 2020 and 20 I 9, the interim condensed consolidated statements of operations and of comprehensive loss for\n",
            "the three and nine months ended October 3 I , 2020 and 20 I 9 and the interim condensed consolidated statements of cash flows for the nine months ended October\n",
            "31,2020 and 2019 are unaudited. The interim unaudited condensed consolidated financial statements have been prepared on a basis consistent with the annual\n",
            "consolidated financial statements and, in the opinion ofmanagement, reflect all adjustments, which include only normal recurring adjustments,  necessary to state\n",
            "fairly the Company's financial position as ofOctober 31,2020, its statements ofstockholders' equity as ofOctober 31,2020 and2019, its results ofoperations and\n",
            "of comprehensive loss for the three and nine months ended October 31, 2020 and 20 I 9 and its statements of cash flows for the nine months ended October 3 I ,\n",
            "2020 and 2019. The financial data and the other financial information disclosed in the notes to these interim condensed consolidated financial statements related to\n",
            "the three- and nine-month periods are also unaudited. The results ofoperations for the three and nine months ended October 31,2020 are not necessarily indicative\n",
            "of the results to be expected for the fiscal year ending January 31, 2021 or for any other future year or interim period.\n",
            "The interim unaudited condensed consolidated financial statements have been prepared in accordance with accounting principles generally accepted in the\n",
            "United States of America C'U.S. GAAP\") and include the accounts of the Company and its wholly owned subsidiaries. All intercompany transactions  and accounts\n",
            "have been eliminated. Certain information and note disclosures normally included in the financial statements prepared in accordance with U.S. CAAP have been\n",
            "condensed or omitted pursuant to the applicable rules and regulations ofthe Securities and Exchange Commission. The condensed balance sheet data as ofJanuary\n",
            "31,2020 was derived from the Company's audited financial statements, but does not include all disclosures required by U.S. GAAP. Therefore, these interim\n",
            "unaudited condensed consolidated financial statements and accompanying footnotes should be read in conjunction with the Company's bnnual consolidated\n",
            "financial statements and related footnotes included in its Annual Report on Form l0-K for the fiscal year ended January 31,2020 (the\"2020 Form l0-K\").\n",
            "Lj.sc rl Estirnates\n",
            "The preparation of the interim unaudited condensed consolidated financial statements in conformity with U.S. GAAP requires management to make\n",
            "estimates, assumptions andjudgments that affect the reported amounts ofassets and liabilities, disclosure ofcontingent assets and liabilities at the date ofthe\n",
            "financial statements and the reported amounts ofrevenue and expenses during the reporting period. Such estimates include, but are not limited to, revenue\n",
            "recognition, allowances for doubtful accounts, the incremental borrowing rate related to the Company's lease liabilities, stock-based compensation, fair value of\n",
            "the liability component ofthe convertible debt, fair value ofcommon stock prior to the initial public offering, legal contingencies, fair value ofacquired intangible\n",
            "assets and goodwill, useful lives ofacquired intangible assets and property and equipment, fair value ofnon-marketable securities and accounting for income taxes.\n",
            "The Company bases these estimates on historical and anticipated results, trends and various other assumptions that it believes are reasonable under the\n",
            "circumstances,  including assumptions as to future events.\n",
            "The ongoing COVID- l9 pandemic has resulted in a global slowdown of economic activity that is likely to continue to decrease demand for a broad variety\n",
            "of goods and services, including from the Company's customers, while also disrupting sales channels and marketing activities for an unknown period of time. The\n",
            "Company currently expects its revenue to continue to be negatively impacted by the slowdown in activity associated with the ongoing COVID-I9 pandemic in the\n",
            "near-term.\n"
          ],
          "name": "stdout"
        }
      ]
    },
    {
      "cell_type": "code",
      "metadata": {
        "id": "3Aqk4dtf87xP",
        "colab": {
          "base_uri": "https://localhost:8080/",
          "height": 156
        },
        "outputId": "f820a0da-80ce-4746-e793-59937423e925"
      },
      "source": [
        "text = first_page.extract_text().replace('I ahle ol (l0ntcnts\\n','').replace(\r\n",
        "    \"Busi.t ol f't esenlatiou\\n\",'').replace('Lj.sc rl Estirnates\\n','')\r\n",
        "\r\n",
        "text"
      ],
      "execution_count": null,
      "outputs": [
        {
          "output_type": "execute_result",
          "data": {
            "application/vnd.google.colaboratory.intrinsic+json": {
              "type": "string"
            },
            "text/plain": [
              "'MONGODB, INC.\\nNOTES TO UNAUDITED CONDENSED CONSOLIDATED FINANCIAL STATEMENTS\\nl. \\nOrganization and Description ofBusiness\\nMongoDB, Inc. (\"MongoDB\" or the \"Company\") was originally incorporated in the state of Delaware in November 2007 under the name l0Gen, Inc. In\\nAugust 2013, the Company changed its name to MongoDB, Inc. The Company is headquartered in New York City. MongoDB is the leading, modem, general\\npurpose database platform. The Company\\'s robust platform enables developers to build and modemize applications rapidly and cost-effectively  across a broad\\nrange ofuse cases. Organizations can deploy the Company\\'s platform at scale in the cloud, on-premise or in a hybrid environment. In addition to selling its\\nsoftware, the Company provides post-contract support, training and consulting services for its offerings. The Company\\'s fiscal year ends January 3 1.\\n2. Summary of Signilicant Accounting Policies\\nThe accompanying interim condensed consolidated balance sheet as of October 31, 2020, the interim condensed consolidated statements of stockholders\\'\\nequity for the three and nine months ended October 3 I , 2020 and 20 I 9, the interim condensed consolidated statements of operations and of comprehensive loss for\\nthe three and nine months ended October 3 I , 2020 and 20 I 9 and the interim condensed consolidated statements of cash flows for the nine months ended October\\n31,2020 and 2019 are unaudited. The interim unaudited condensed consolidated financial statements have been prepared on a basis consistent with the annual\\nconsolidated financial statements and, in the opinion ofmanagement, reflect all adjustments, which include only normal recurring adjustments,  necessary to state\\nfairly the Company\\'s financial position as ofOctober 31,2020, its statements ofstockholders\\' equity as ofOctober 31,2020 and2019, its results ofoperations and\\nof comprehensive loss for the three and nine months ended October 31, 2020 and 20 I 9 and its statements of cash flows for the nine months ended October 3 I ,\\n2020 and 2019. The financial data and the other financial information disclosed in the notes to these interim condensed consolidated financial statements related to\\nthe three- and nine-month periods are also unaudited. The results ofoperations for the three and nine months ended October 31,2020 are not necessarily indicative\\nof the results to be expected for the fiscal year ending January 31, 2021 or for any other future year or interim period.\\nThe interim unaudited condensed consolidated financial statements have been prepared in accordance with accounting principles generally accepted in the\\nUnited States of America C\\'U.S. GAAP\") and include the accounts of the Company and its wholly owned subsidiaries. All intercompany transactions  and accounts\\nhave been eliminated. Certain information and note disclosures normally included in the financial statements prepared in accordance with U.S. CAAP have been\\ncondensed or omitted pursuant to the applicable rules and regulations ofthe Securities and Exchange Commission. The condensed balance sheet data as ofJanuary\\n31,2020 was derived from the Company\\'s audited financial statements, but does not include all disclosures required by U.S. GAAP. Therefore, these interim\\nunaudited condensed consolidated financial statements and accompanying footnotes should be read in conjunction with the Company\\'s bnnual consolidated\\nfinancial statements and related footnotes included in its Annual Report on Form l0-K for the fiscal year ended January 31,2020 (the\"2020 Form l0-K\").\\nThe preparation of the interim unaudited condensed consolidated financial statements in conformity with U.S. GAAP requires management to make\\nestimates, assumptions andjudgments that affect the reported amounts ofassets and liabilities, disclosure ofcontingent assets and liabilities at the date ofthe\\nfinancial statements and the reported amounts ofrevenue and expenses during the reporting period. Such estimates include, but are not limited to, revenue\\nrecognition, allowances for doubtful accounts, the incremental borrowing rate related to the Company\\'s lease liabilities, stock-based compensation, fair value of\\nthe liability component ofthe convertible debt, fair value ofcommon stock prior to the initial public offering, legal contingencies, fair value ofacquired intangible\\nassets and goodwill, useful lives ofacquired intangible assets and property and equipment, fair value ofnon-marketable securities and accounting for income taxes.\\nThe Company bases these estimates on historical and anticipated results, trends and various other assumptions that it believes are reasonable under the\\ncircumstances,  including assumptions as to future events.\\nThe ongoing COVID- l9 pandemic has resulted in a global slowdown of economic activity that is likely to continue to decrease demand for a broad variety\\nof goods and services, including from the Company\\'s customers, while also disrupting sales channels and marketing activities for an unknown period of time. The\\nCompany currently expects its revenue to continue to be negatively impacted by the slowdown in activity associated with the ongoing COVID-I9 pandemic in the\\nnear-term.'"
            ]
          },
          "metadata": {
            "tags": []
          },
          "execution_count": 4
        }
      ]
    },
    {
      "cell_type": "markdown",
      "metadata": {
        "id": "71D_SiFYcnOY"
      },
      "source": [
        "###**Text Cleaning**"
      ]
    },
    {
      "cell_type": "markdown",
      "metadata": {
        "id": "OecQ1gY6d39_"
      },
      "source": [
        "####Using REGEX"
      ]
    },
    {
      "cell_type": "code",
      "metadata": {
        "id": "jgpDm08j9xuR",
        "colab": {
          "base_uri": "https://localhost:8080/",
          "height": 156
        },
        "outputId": "b8be48fe-038a-4754-c156-2bbd02fbc098"
      },
      "source": [
        "# texts = re.sub(r'\\W',' ', text)\r\n",
        "texts = re.sub(r'\\d+',' ', text)\r\n",
        "texts = re.sub(r'[\",\\'!@#$%^&*(){}?/;`~:<>+=-]',' ', texts)\r\n",
        "texts = re.sub(r'\\s',' ',texts)\r\n",
        "texts = re.sub(r'\\bl\\b',' ',texts)\r\n",
        "texts = re.sub(r'\\b [.$]+',' ',texts)\r\n",
        "texts = re.sub(r'\\bi\\b',' ',texts)\r\n",
        "texts = re.sub(r'\\bi.\\b ','',texts)\r\n",
        "texts = re.sub(r'[  \\b.\\b ]+',' ',texts)\r\n",
        "texts = texts.lower()\r\n",
        "texts"
      ],
      "execution_count": null,
      "outputs": [
        {
          "output_type": "execute_result",
          "data": {
            "application/vnd.google.colaboratory.intrinsic+json": {
              "type": "string"
            },
            "text/plain": [
              "'mongodb inc notes to unaudited condensed consolidated financial statements organization and description ofbusiness mongodb inc mongodb or the company was originally incorporated the state of delaware november under the name gen inc in august the company changed its name to mongodb inc the company headquartered new york city mongodb the leading modem general purpose database platform the company s robust platform enables developers to build and modemize applications rapidly and cost effectively across a broad range ofuse cases organizations can deploy the company s platform at scale the cloud on premise or a hybrid environment in addition to selling its software the company provides post contract support training and consulting services for its offerings the company s fiscal year ends january summary of signilicant accounting policies the accompanying interim condensed consolidated balance sheet as of october the interim condensed consolidated statements of stockholders equity for the three and nine months ended october i and i the interim condensed consolidated statements of operations and of comprehensive loss for the three and nine months ended october i and i and the interim condensed consolidated statements of cash flows for the nine months ended october and are unaudited the interim unaudited condensed consolidated financial statements have been prepared on a basis consistent with the annual consolidated financial statements and the opinion ofmanagement reflect all adjustments which include only normal recurring adjustments necessary to state fairly the company s financial position as ofoctober its statements ofstockholders equity as ofoctober and its results ofoperations and of comprehensive loss for the three and nine months ended october and i and its statements of cash flows for the nine months ended october i and the financial data and the other financial information disclosed the notes to these interim condensed consolidated financial statements related to the three and nine month periods are also unaudited the results ofoperations for the three and nine months ended october are not necessarily indicative of the results to be expected for the fiscal year ending january or for any other future year or interim period the interim unaudited condensed consolidated financial statements have been prepared accordance with accounting principles generally accepted the united states of america c u s gaap and include the accounts of the company and its wholly owned subsidiaries all intercompany transactions and accounts have been eliminated certain information and note disclosures normally included the financial statements prepared accordance with u s caap have been condensed or omitted pursuant to the applicable rules and regulations ofthe securities and exchange commission the condensed balance sheet data as ofjanuary was derived from the company s audited financial statements but does not include all disclosures required by u s gaap therefore these interim unaudited condensed consolidated financial statements and accompanying footnotes should be read conjunction with the company s bnnual consolidated financial statements and related footnotes included its annual report on form k for the fiscal year ended january the form k the preparation of the interim unaudited condensed consolidated financial statements conformity with u s gaap requires management to make estimates assumptions andjudgments that affect the reported amounts ofassets and liabilities disclosure ofcontingent assets and liabilities at the date ofthe financial statements and the reported amounts ofrevenue and expenses during the reporting period such estimates include but are not limited to revenue recognition allowances for doubtful accounts the incremental borrowing rate related to the company s lease liabilities stock based compensation fair value of the liability component ofthe convertible debt fair value ofcommon stock prior to the initial public offering legal contingencies fair value ofacquired intangible assets and goodwill useful lives ofacquired intangible assets and property and equipment fair value ofnon marketable securities and accounting for income taxes the company bases these estimates on historical and anticipated results trends and various other assumptions that believes are reasonable under the circumstances including assumptions as to future events the ongoing covid pandemic has resulted a global slowdown of economic activity that likely to continue to decrease demand for a broad variety of goods and services including from the company s customers while also disrupting sales channels and marketing activities for an unknown period of time the company currently expects its revenue to continue to be negatively impacted by the slowdown activity associated with the ongoing covid i pandemic the near term '"
            ]
          },
          "metadata": {
            "tags": []
          },
          "execution_count": 5
        }
      ]
    },
    {
      "cell_type": "code",
      "metadata": {
        "id": "8RUYfx-QrkUg"
      },
      "source": [
        "# txt = re.sub(r'company s ','companys ',texts)\r\n",
        "# txt"
      ],
      "execution_count": null,
      "outputs": []
    },
    {
      "cell_type": "code",
      "metadata": {
        "id": "qh_GnE5xtVi5"
      },
      "source": [
        "# txt = re.sub(r'[\\bi\\b]*?','',txt)\r\n",
        "# txt"
      ],
      "execution_count": null,
      "outputs": []
    },
    {
      "cell_type": "markdown",
      "metadata": {
        "id": "9hjsiVYPcRQN"
      },
      "source": [
        "#####Found alternative way for text cleaning"
      ]
    },
    {
      "cell_type": "code",
      "metadata": {
        "id": "TKB7dWCiCOFQ",
        "colab": {
          "base_uri": "https://localhost:8080/",
          "height": 156
        },
        "outputId": "a77a95d5-1261-4a37-9ceb-a6fd2b3e8d2b"
      },
      "source": [
        "doc = re.findall(\"[a-zA-Z]+\",text)\r\n",
        "doc = (\" \".join(doc))\r\n",
        "doc = doc.lower()\r\n",
        "doc"
      ],
      "execution_count": null,
      "outputs": [
        {
          "output_type": "execute_result",
          "data": {
            "application/vnd.google.colaboratory.intrinsic+json": {
              "type": "string"
            },
            "text/plain": [
              "'mongodb inc notes to unaudited condensed consolidated financial statements l organization and description ofbusiness mongodb inc mongodb or the company was originally incorporated in the state of delaware in november under the name l gen inc in august the company changed its name to mongodb inc the company is headquartered in new york city mongodb is the leading modem general purpose database platform the company s robust platform enables developers to build and modemize applications rapidly and cost effectively across a broad range ofuse cases organizations can deploy the company s platform at scale in the cloud on premise or in a hybrid environment in addition to selling its software the company provides post contract support training and consulting services for its offerings the company s fiscal year ends january summary of signilicant accounting policies the accompanying interim condensed consolidated balance sheet as of october the interim condensed consolidated statements of stockholders equity for the three and nine months ended october i and i the interim condensed consolidated statements of operations and of comprehensive loss for the three and nine months ended october i and i and the interim condensed consolidated statements of cash flows for the nine months ended october and are unaudited the interim unaudited condensed consolidated financial statements have been prepared on a basis consistent with the annual consolidated financial statements and in the opinion ofmanagement reflect all adjustments which include only normal recurring adjustments necessary to state fairly the company s financial position as ofoctober its statements ofstockholders equity as ofoctober and its results ofoperations and of comprehensive loss for the three and nine months ended october and i and its statements of cash flows for the nine months ended october i and the financial data and the other financial information disclosed in the notes to these interim condensed consolidated financial statements related to the three and nine month periods are also unaudited the results ofoperations for the three and nine months ended october are not necessarily indicative of the results to be expected for the fiscal year ending january or for any other future year or interim period the interim unaudited condensed consolidated financial statements have been prepared in accordance with accounting principles generally accepted in the united states of america c u s gaap and include the accounts of the company and its wholly owned subsidiaries all intercompany transactions and accounts have been eliminated certain information and note disclosures normally included in the financial statements prepared in accordance with u s caap have been condensed or omitted pursuant to the applicable rules and regulations ofthe securities and exchange commission the condensed balance sheet data as ofjanuary was derived from the company s audited financial statements but does not include all disclosures required by u s gaap therefore these interim unaudited condensed consolidated financial statements and accompanying footnotes should be read in conjunction with the company s bnnual consolidated financial statements and related footnotes included in its annual report on form l k for the fiscal year ended january the form l k the preparation of the interim unaudited condensed consolidated financial statements in conformity with u s gaap requires management to make estimates assumptions andjudgments that affect the reported amounts ofassets and liabilities disclosure ofcontingent assets and liabilities at the date ofthe financial statements and the reported amounts ofrevenue and expenses during the reporting period such estimates include but are not limited to revenue recognition allowances for doubtful accounts the incremental borrowing rate related to the company s lease liabilities stock based compensation fair value of the liability component ofthe convertible debt fair value ofcommon stock prior to the initial public offering legal contingencies fair value ofacquired intangible assets and goodwill useful lives ofacquired intangible assets and property and equipment fair value ofnon marketable securities and accounting for income taxes the company bases these estimates on historical and anticipated results trends and various other assumptions that it believes are reasonable under the circumstances including assumptions as to future events the ongoing covid l pandemic has resulted in a global slowdown of economic activity that is likely to continue to decrease demand for a broad variety of goods and services including from the company s customers while also disrupting sales channels and marketing activities for an unknown period of time the company currently expects its revenue to continue to be negatively impacted by the slowdown in activity associated with the ongoing covid i pandemic in the near term'"
            ]
          },
          "metadata": {
            "tags": []
          },
          "execution_count": 8
        }
      ]
    },
    {
      "cell_type": "markdown",
      "metadata": {
        "id": "Ji3QGsjdcJO8"
      },
      "source": [
        "###**Spelling Correction**"
      ]
    },
    {
      "cell_type": "code",
      "metadata": {
        "id": "iBwGvi1bEcC2",
        "colab": {
          "base_uri": "https://localhost:8080/"
        },
        "outputId": "8af86722-3ad7-4486-d3a6-90547762e716"
      },
      "source": [
        "spell = SpellChecker()\r\n",
        "\r\n",
        "misspelled = spell.unknown(doc)\r\n",
        "print(misspelled)"
      ],
      "execution_count": null,
      "outputs": [
        {
          "output_type": "stream",
          "text": [
            "{'j', 'v', 't', 'h', 'p', ' ', 'x', 'd', 'f', 'r', 'm', 'b', 'z', 'q', 'n', 'g', 'l', 'w', 'c', 's', 'k'}\n"
          ],
          "name": "stdout"
        }
      ]
    },
    {
      "cell_type": "code",
      "metadata": {
        "id": "lAQZ7BHXFezW",
        "colab": {
          "base_uri": "https://localhost:8080/"
        },
        "outputId": "f503eb53-a41f-40ec-ab6d-f9c06982fda3"
      },
      "source": [
        "new_doc = TextBlob(doc)\r\n",
        "result = new_doc.correct()\r\n",
        "result"
      ],
      "execution_count": null,
      "outputs": [
        {
          "output_type": "execute_result",
          "data": {
            "text/plain": [
              "TextBlob(\"mongodb in notes to unsuited condensed consolidated financial statements l organization and description business mongodb in mongodb or the company was originally incorporated in the state of delaware in november under the name l gen in in august the company changed its name to mongodb in the company is headquarters in new york city mongodb is the leading mode general purpose database platform the company s robust platform enables developer to build and modemize applications rapidly and cost effectively across a broad range fuse cases organizations can deploy the company s platform at scale in the cloud on premise or in a horrid environment in addition to selling its software the company provides post contract support training and consulting services for its offerings the company s fiscal year ends january summary of significant accounting policies the accompanying interim condensed consolidated balance sheet as of october the interim condensed consolidated statements of stockholders equity for the three and nine months ended october i and i the interim condensed consolidated statements of operations and of comprehensive loss for the three and nine months ended october i and i and the interim condensed consolidated statements of cash flows for the nine months ended october and are unsuited the interim unsuited condensed consolidated financial statements have been prepared on a basis consistent with the annual consolidated financial statements and in the opinion management reflect all adjustments which include only normal recurring adjustments necessary to state fairly the company s financial position as october its statements stockholders equity as october and its results operations and of comprehensive loss for the three and nine months ended october and i and its statements of cash flows for the nine months ended october i and the financial data and the other financial information disclosed in the notes to these interim condensed consolidated financial statements related to the three and nine month periods are also unsuited the results operations for the three and nine months ended october are not necessarily indicative of the results to be expected for the fiscal year ending january or for any other future year or interim period the interim unsuited condensed consolidated financial statements have been prepared in accordance with accounting principles generally accepted in the united states of america c u s gap and include the accounts of the company and its wholly owned subsidiaries all intercompany transactions and accounts have been eliminated certain information and note disclosure normally included in the financial statements prepared in accordance with u s camp have been condensed or omitted pursuant to the applicable rules and regulations the securities and exchange commission the condensed balance sheet data as january was derived from the company s united financial statements but does not include all disclosure required by u s gap therefore these interim unsuited condensed consolidated financial statements and accompanying footnotes should be read in conjunction with the company s annual consolidated financial statements and related footnotes included in its annual report on form l k for the fiscal year ended january the form l k the preparation of the interim unsuited condensed consolidated financial statements in conformity with u s gap requires management to make estimates assumptions andjudgments that affect the reported amounts ofassets and liabilities disclosure contingent asset and liabilities at the date the financial statements and the reported amounts revenue and expenses during the reporting period such estimates include but are not limited to revenue recognition allowances for doubtful accounts the incremental borrowing rate related to the company s lease liabilities stock based compensation fair value of the liability component the convertible debt fair value common stock prior to the initial public offering legal contingencies fair value acquired intangible asset and goodwill useful lives acquired intangible asset and property and equipment fair value often marketable securities and accounting for income taxes the company bases these estimates on historical and anticipated results tends and various other assumptions that it believes are reasonable under the circumstances including assumptions as to future events the going could l anaemic has resulted in a global slowdown of economic activity that is likely to continue to decrease demand for a broad variety of goods and services including from the company s customers while also disrupting sales channels and marketing activities for an unknown period of time the company currently expects its revenue to continue to be negative impacted by the slowdown in activity associated with the going could i anaemic in the near term\")"
            ]
          },
          "metadata": {
            "tags": []
          },
          "execution_count": 10
        }
      ]
    },
    {
      "cell_type": "markdown",
      "metadata": {
        "id": "QXgi9oBGjKxK"
      },
      "source": [
        "###**Tokenization & Removing Stopwords**"
      ]
    },
    {
      "cell_type": "markdown",
      "metadata": {
        "id": "R6y51rT6qRIu"
      },
      "source": [
        "####Using NLTK\r\n"
      ]
    },
    {
      "cell_type": "code",
      "metadata": {
        "id": "9pT61LX2FjcU",
        "colab": {
          "base_uri": "https://localhost:8080/"
        },
        "outputId": "9f8fa28a-e085-47e8-9ba7-21965b75573c"
      },
      "source": [
        "stop_words = set(stopwords.words('english')) \r\n",
        "word_tokens = word_tokenize(texts) \r\n",
        "nltk_filtered = [word for word in word_tokens if word not in stopwords.words()]\r\n",
        "print(nltk_filtered[1:10])\r\n",
        "print(len(nltk_filtered))"
      ],
      "execution_count": null,
      "outputs": [
        {
          "output_type": "stream",
          "text": [
            "['inc', 'notes', 'unaudited', 'condensed', 'consolidated', 'financial', 'statements', 'organization', 'description']\n",
            "446\n"
          ],
          "name": "stdout"
        }
      ]
    },
    {
      "cell_type": "markdown",
      "metadata": {
        "id": "zxGj_xrsqg7k"
      },
      "source": [
        "####Using Spacy"
      ]
    },
    {
      "cell_type": "code",
      "metadata": {
        "id": "Y__jk71hqgE3",
        "colab": {
          "base_uri": "https://localhost:8080/"
        },
        "outputId": "c7126f82-4832-4639-c90b-6b61886ca9f4"
      },
      "source": [
        "from spacy.lang.en import English\r\n",
        "from spacy.lang.en.stop_words import STOP_WORDS\r\n",
        "\r\n",
        "# Load English tokenizer, tagger, parser, NER and word vectors\r\n",
        "nlp = English()\r\n",
        "spacy_doc = nlp(texts)\r\n",
        "\r\n",
        "# Tokenizing\r\n",
        "tokens = [token.text for token in spacy_doc]\r\n",
        "\r\n",
        "# Removing stopwords\r\n",
        "\r\n",
        "spacy_filtered = []\r\n",
        "for word in tokens:\r\n",
        "    lexeme = nlp.vocab[word]\r\n",
        "    if lexeme.is_stop == False:\r\n",
        "        spacy_filtered.append(word) \r\n",
        "\r\n",
        "print(tokens)\r\n",
        "print(spacy_filtered)\r\n",
        "# filtered_text = [word nlp.vocab[word] for word in tokens if lexeme.is_stop == False]\r\n",
        "print(len(spacy_filtered ))"
      ],
      "execution_count": null,
      "outputs": [
        {
          "output_type": "stream",
          "text": [
            "['mongodb', 'inc', 'notes', 'to', 'unaudited', 'condensed', 'consolidated', 'financial', 'statements', 'organization', 'and', 'description', 'ofbusiness', 'mongodb', 'inc', 'mongodb', 'or', 'the', 'company', 'was', 'originally', 'incorporated', 'the', 'state', 'of', 'delaware', 'november', 'under', 'the', 'name', 'gen', 'inc', 'in', 'august', 'the', 'company', 'changed', 'its', 'name', 'to', 'mongodb', 'inc', 'the', 'company', 'headquartered', 'new', 'york', 'city', 'mongodb', 'the', 'leading', 'modem', 'general', 'purpose', 'database', 'platform', 'the', 'company', 's', 'robust', 'platform', 'enables', 'developers', 'to', 'build', 'and', 'modemize', 'applications', 'rapidly', 'and', 'cost', 'effectively', 'across', 'a', 'broad', 'range', 'ofuse', 'cases', 'organizations', 'can', 'deploy', 'the', 'company', 's', 'platform', 'at', 'scale', 'the', 'cloud', 'on', 'premise', 'or', 'a', 'hybrid', 'environment', 'in', 'addition', 'to', 'selling', 'its', 'software', 'the', 'company', 'provides', 'post', 'contract', 'support', 'training', 'and', 'consulting', 'services', 'for', 'its', 'offerings', 'the', 'company', 's', 'fiscal', 'year', 'ends', 'january', 'summary', 'of', 'signilicant', 'accounting', 'policies', 'the', 'accompanying', 'interim', 'condensed', 'consolidated', 'balance', 'sheet', 'as', 'of', 'october', 'the', 'interim', 'condensed', 'consolidated', 'statements', 'of', 'stockholders', 'equity', 'for', 'the', 'three', 'and', 'nine', 'months', 'ended', 'october', 'i', 'and', 'i', 'the', 'interim', 'condensed', 'consolidated', 'statements', 'of', 'operations', 'and', 'of', 'comprehensive', 'loss', 'for', 'the', 'three', 'and', 'nine', 'months', 'ended', 'october', 'i', 'and', 'i', 'and', 'the', 'interim', 'condensed', 'consolidated', 'statements', 'of', 'cash', 'flows', 'for', 'the', 'nine', 'months', 'ended', 'october', 'and', 'are', 'unaudited', 'the', 'interim', 'unaudited', 'condensed', 'consolidated', 'financial', 'statements', 'have', 'been', 'prepared', 'on', 'a', 'basis', 'consistent', 'with', 'the', 'annual', 'consolidated', 'financial', 'statements', 'and', 'the', 'opinion', 'ofmanagement', 'reflect', 'all', 'adjustments', 'which', 'include', 'only', 'normal', 'recurring', 'adjustments', 'necessary', 'to', 'state', 'fairly', 'the', 'company', 's', 'financial', 'position', 'as', 'ofoctober', 'its', 'statements', 'ofstockholders', 'equity', 'as', 'ofoctober', 'and', 'its', 'results', 'ofoperations', 'and', 'of', 'comprehensive', 'loss', 'for', 'the', 'three', 'and', 'nine', 'months', 'ended', 'october', 'and', 'i', 'and', 'its', 'statements', 'of', 'cash', 'flows', 'for', 'the', 'nine', 'months', 'ended', 'october', 'i', 'and', 'the', 'financial', 'data', 'and', 'the', 'other', 'financial', 'information', 'disclosed', 'the', 'notes', 'to', 'these', 'interim', 'condensed', 'consolidated', 'financial', 'statements', 'related', 'to', 'the', 'three', 'and', 'nine', 'month', 'periods', 'are', 'also', 'unaudited', 'the', 'results', 'ofoperations', 'for', 'the', 'three', 'and', 'nine', 'months', 'ended', 'october', 'are', 'not', 'necessarily', 'indicative', 'of', 'the', 'results', 'to', 'be', 'expected', 'for', 'the', 'fiscal', 'year', 'ending', 'january', 'or', 'for', 'any', 'other', 'future', 'year', 'or', 'interim', 'period', 'the', 'interim', 'unaudited', 'condensed', 'consolidated', 'financial', 'statements', 'have', 'been', 'prepared', 'accordance', 'with', 'accounting', 'principles', 'generally', 'accepted', 'the', 'united', 'states', 'of', 'america', 'c', 'u', 's', 'gaap', 'and', 'include', 'the', 'accounts', 'of', 'the', 'company', 'and', 'its', 'wholly', 'owned', 'subsidiaries', 'all', 'intercompany', 'transactions', 'and', 'accounts', 'have', 'been', 'eliminated', 'certain', 'information', 'and', 'note', 'disclosures', 'normally', 'included', 'the', 'financial', 'statements', 'prepared', 'accordance', 'with', 'u', 's', 'caap', 'have', 'been', 'condensed', 'or', 'omitted', 'pursuant', 'to', 'the', 'applicable', 'rules', 'and', 'regulations', 'ofthe', 'securities', 'and', 'exchange', 'commission', 'the', 'condensed', 'balance', 'sheet', 'data', 'as', 'ofjanuary', 'was', 'derived', 'from', 'the', 'company', 's', 'audited', 'financial', 'statements', 'but', 'does', 'not', 'include', 'all', 'disclosures', 'required', 'by', 'u', 's', 'gaap', 'therefore', 'these', 'interim', 'unaudited', 'condensed', 'consolidated', 'financial', 'statements', 'and', 'accompanying', 'footnotes', 'should', 'be', 'read', 'conjunction', 'with', 'the', 'company', 's', 'bnnual', 'consolidated', 'financial', 'statements', 'and', 'related', 'footnotes', 'included', 'its', 'annual', 'report', 'on', 'form', 'k', 'for', 'the', 'fiscal', 'year', 'ended', 'january', 'the', 'form', 'k', 'the', 'preparation', 'of', 'the', 'interim', 'unaudited', 'condensed', 'consolidated', 'financial', 'statements', 'conformity', 'with', 'u', 's', 'gaap', 'requires', 'management', 'to', 'make', 'estimates', 'assumptions', 'andjudgments', 'that', 'affect', 'the', 'reported', 'amounts', 'ofassets', 'and', 'liabilities', 'disclosure', 'ofcontingent', 'assets', 'and', 'liabilities', 'at', 'the', 'date', 'ofthe', 'financial', 'statements', 'and', 'the', 'reported', 'amounts', 'ofrevenue', 'and', 'expenses', 'during', 'the', 'reporting', 'period', 'such', 'estimates', 'include', 'but', 'are', 'not', 'limited', 'to', 'revenue', 'recognition', 'allowances', 'for', 'doubtful', 'accounts', 'the', 'incremental', 'borrowing', 'rate', 'related', 'to', 'the', 'company', 's', 'lease', 'liabilities', 'stock', 'based', 'compensation', 'fair', 'value', 'of', 'the', 'liability', 'component', 'ofthe', 'convertible', 'debt', 'fair', 'value', 'ofcommon', 'stock', 'prior', 'to', 'the', 'initial', 'public', 'offering', 'legal', 'contingencies', 'fair', 'value', 'ofacquired', 'intangible', 'assets', 'and', 'goodwill', 'useful', 'lives', 'ofacquired', 'intangible', 'assets', 'and', 'property', 'and', 'equipment', 'fair', 'value', 'ofnon', 'marketable', 'securities', 'and', 'accounting', 'for', 'income', 'taxes', 'the', 'company', 'bases', 'these', 'estimates', 'on', 'historical', 'and', 'anticipated', 'results', 'trends', 'and', 'various', 'other', 'assumptions', 'that', 'believes', 'are', 'reasonable', 'under', 'the', 'circumstances', 'including', 'assumptions', 'as', 'to', 'future', 'events', 'the', 'ongoing', 'covid', 'pandemic', 'has', 'resulted', 'a', 'global', 'slowdown', 'of', 'economic', 'activity', 'that', 'likely', 'to', 'continue', 'to', 'decrease', 'demand', 'for', 'a', 'broad', 'variety', 'of', 'goods', 'and', 'services', 'including', 'from', 'the', 'company', 's', 'customers', 'while', 'also', 'disrupting', 'sales', 'channels', 'and', 'marketing', 'activities', 'for', 'an', 'unknown', 'period', 'of', 'time', 'the', 'company', 'currently', 'expects', 'its', 'revenue', 'to', 'continue', 'to', 'be', 'negatively', 'impacted', 'by', 'the', 'slowdown', 'activity', 'associated', 'with', 'the', 'ongoing', 'covid', 'i', 'pandemic', 'the', 'near', 'term']\n",
            "['mongodb', 'inc', 'notes', 'unaudited', 'condensed', 'consolidated', 'financial', 'statements', 'organization', 'description', 'ofbusiness', 'mongodb', 'inc', 'mongodb', 'company', 'originally', 'incorporated', 'state', 'delaware', 'november', 'gen', 'inc', 'august', 'company', 'changed', 'mongodb', 'inc', 'company', 'headquartered', 'new', 'york', 'city', 'mongodb', 'leading', 'modem', 'general', 'purpose', 'database', 'platform', 'company', 's', 'robust', 'platform', 'enables', 'developers', 'build', 'modemize', 'applications', 'rapidly', 'cost', 'effectively', 'broad', 'range', 'ofuse', 'cases', 'organizations', 'deploy', 'company', 's', 'platform', 'scale', 'cloud', 'premise', 'hybrid', 'environment', 'addition', 'selling', 'software', 'company', 'provides', 'post', 'contract', 'support', 'training', 'consulting', 'services', 'offerings', 'company', 's', 'fiscal', 'year', 'ends', 'january', 'summary', 'signilicant', 'accounting', 'policies', 'accompanying', 'interim', 'condensed', 'consolidated', 'balance', 'sheet', 'october', 'interim', 'condensed', 'consolidated', 'statements', 'stockholders', 'equity', 'months', 'ended', 'october', 'interim', 'condensed', 'consolidated', 'statements', 'operations', 'comprehensive', 'loss', 'months', 'ended', 'october', 'interim', 'condensed', 'consolidated', 'statements', 'cash', 'flows', 'months', 'ended', 'october', 'unaudited', 'interim', 'unaudited', 'condensed', 'consolidated', 'financial', 'statements', 'prepared', 'basis', 'consistent', 'annual', 'consolidated', 'financial', 'statements', 'opinion', 'ofmanagement', 'reflect', 'adjustments', 'include', 'normal', 'recurring', 'adjustments', 'necessary', 'state', 'fairly', 'company', 's', 'financial', 'position', 'ofoctober', 'statements', 'ofstockholders', 'equity', 'ofoctober', 'results', 'ofoperations', 'comprehensive', 'loss', 'months', 'ended', 'october', 'statements', 'cash', 'flows', 'months', 'ended', 'october', 'financial', 'data', 'financial', 'information', 'disclosed', 'notes', 'interim', 'condensed', 'consolidated', 'financial', 'statements', 'related', 'month', 'periods', 'unaudited', 'results', 'ofoperations', 'months', 'ended', 'october', 'necessarily', 'indicative', 'results', 'expected', 'fiscal', 'year', 'ending', 'january', 'future', 'year', 'interim', 'period', 'interim', 'unaudited', 'condensed', 'consolidated', 'financial', 'statements', 'prepared', 'accordance', 'accounting', 'principles', 'generally', 'accepted', 'united', 'states', 'america', 'c', 'u', 's', 'gaap', 'include', 'accounts', 'company', 'wholly', 'owned', 'subsidiaries', 'intercompany', 'transactions', 'accounts', 'eliminated', 'certain', 'information', 'note', 'disclosures', 'normally', 'included', 'financial', 'statements', 'prepared', 'accordance', 'u', 's', 'caap', 'condensed', 'omitted', 'pursuant', 'applicable', 'rules', 'regulations', 'ofthe', 'securities', 'exchange', 'commission', 'condensed', 'balance', 'sheet', 'data', 'ofjanuary', 'derived', 'company', 's', 'audited', 'financial', 'statements', 'include', 'disclosures', 'required', 'u', 's', 'gaap', 'interim', 'unaudited', 'condensed', 'consolidated', 'financial', 'statements', 'accompanying', 'footnotes', 'read', 'conjunction', 'company', 's', 'bnnual', 'consolidated', 'financial', 'statements', 'related', 'footnotes', 'included', 'annual', 'report', 'form', 'k', 'fiscal', 'year', 'ended', 'january', 'form', 'k', 'preparation', 'interim', 'unaudited', 'condensed', 'consolidated', 'financial', 'statements', 'conformity', 'u', 's', 'gaap', 'requires', 'management', 'estimates', 'assumptions', 'andjudgments', 'affect', 'reported', 'amounts', 'ofassets', 'liabilities', 'disclosure', 'ofcontingent', 'assets', 'liabilities', 'date', 'ofthe', 'financial', 'statements', 'reported', 'amounts', 'ofrevenue', 'expenses', 'reporting', 'period', 'estimates', 'include', 'limited', 'revenue', 'recognition', 'allowances', 'doubtful', 'accounts', 'incremental', 'borrowing', 'rate', 'related', 'company', 's', 'lease', 'liabilities', 'stock', 'based', 'compensation', 'fair', 'value', 'liability', 'component', 'ofthe', 'convertible', 'debt', 'fair', 'value', 'ofcommon', 'stock', 'prior', 'initial', 'public', 'offering', 'legal', 'contingencies', 'fair', 'value', 'ofacquired', 'intangible', 'assets', 'goodwill', 'useful', 'lives', 'ofacquired', 'intangible', 'assets', 'property', 'equipment', 'fair', 'value', 'ofnon', 'marketable', 'securities', 'accounting', 'income', 'taxes', 'company', 'bases', 'estimates', 'historical', 'anticipated', 'results', 'trends', 'assumptions', 'believes', 'reasonable', 'circumstances', 'including', 'assumptions', 'future', 'events', 'ongoing', 'covid', 'pandemic', 'resulted', 'global', 'slowdown', 'economic', 'activity', 'likely', 'continue', 'decrease', 'demand', 'broad', 'variety', 'goods', 'services', 'including', 'company', 's', 'customers', 'disrupting', 'sales', 'channels', 'marketing', 'activities', 'unknown', 'period', 'time', 'company', 'currently', 'expects', 'revenue', 'continue', 'negatively', 'impacted', 'slowdown', 'activity', 'associated', 'ongoing', 'covid', 'pandemic', 'near', 'term']\n",
            "449\n"
          ],
          "name": "stdout"
        }
      ]
    },
    {
      "cell_type": "markdown",
      "metadata": {
        "id": "DWrigTIx4IEM"
      },
      "source": [
        "####Using Gensim"
      ]
    },
    {
      "cell_type": "code",
      "metadata": {
        "id": "cBBKhVOOts3P",
        "colab": {
          "base_uri": "https://localhost:8080/"
        },
        "outputId": "660d7223-2d03-4e78-e429-d44a2d0c691b"
      },
      "source": [
        "gensim_filtered = remove_stopwords(texts)\r\n",
        "print(gensim_filtered)\r\n",
        "print(len(gensim_filtered))"
      ],
      "execution_count": null,
      "outputs": [
        {
          "output_type": "stream",
          "text": [
            "mongodb notes unaudited condensed consolidated financial statements organization description ofbusiness mongodb mongodb company originally incorporated state delaware november gen august company changed mongodb company headquartered new york city mongodb leading modem general purpose database platform company s robust platform enables developers build modemize applications rapidly cost effectively broad range ofuse cases organizations deploy company s platform scale cloud premise hybrid environment addition selling software company provides post contract support training consulting services offerings company s fiscal year ends january summary signilicant accounting policies accompanying interim condensed consolidated balance sheet october interim condensed consolidated statements stockholders equity months ended october interim condensed consolidated statements operations comprehensive loss months ended october interim condensed consolidated statements cash flows months ended october unaudited interim unaudited condensed consolidated financial statements prepared basis consistent annual consolidated financial statements opinion ofmanagement reflect adjustments include normal recurring adjustments necessary state fairly company s financial position ofoctober statements ofstockholders equity ofoctober results ofoperations comprehensive loss months ended october statements cash flows months ended october financial data financial information disclosed notes interim condensed consolidated financial statements related month periods unaudited results ofoperations months ended october necessarily indicative results expected fiscal year ending january future year interim period interim unaudited condensed consolidated financial statements prepared accordance accounting principles generally accepted united states america c u s gaap include accounts company wholly owned subsidiaries intercompany transactions accounts eliminated certain information note disclosures normally included financial statements prepared accordance u s caap condensed omitted pursuant applicable rules regulations ofthe securities exchange commission condensed balance sheet data ofjanuary derived company s audited financial statements include disclosures required u s gaap interim unaudited condensed consolidated financial statements accompanying footnotes read conjunction company s bnnual consolidated financial statements related footnotes included annual report form k fiscal year ended january form k preparation interim unaudited condensed consolidated financial statements conformity u s gaap requires management estimates assumptions andjudgments affect reported amounts ofassets liabilities disclosure ofcontingent assets liabilities date ofthe financial statements reported amounts ofrevenue expenses reporting period estimates include limited revenue recognition allowances doubtful accounts incremental borrowing rate related company s lease liabilities stock based compensation fair value liability component ofthe convertible debt fair value ofcommon stock prior initial public offering legal contingencies fair value ofacquired intangible assets goodwill useful lives ofacquired intangible assets property equipment fair value ofnon marketable securities accounting income taxes company bases estimates historical anticipated results trends assumptions believes reasonable circumstances including assumptions future events ongoing covid pandemic resulted global slowdown economic activity likely continue decrease demand broad variety goods services including company s customers disrupting sales channels marketing activities unknown period time company currently expects revenue continue negatively impacted slowdown activity associated ongoing covid pandemic near term\n",
            "3787\n"
          ],
          "name": "stdout"
        }
      ]
    },
    {
      "cell_type": "markdown",
      "metadata": {
        "id": "WQRRRyZ6N0U8"
      },
      "source": [
        "####Using TextBlob"
      ]
    },
    {
      "cell_type": "code",
      "metadata": {
        "id": "yb3dA7dwN7xh",
        "colab": {
          "base_uri": "https://localhost:8080/"
        },
        "outputId": "236885c4-7e8f-4b7b-86ef-f7dd83b0c07a"
      },
      "source": [
        "blob_object = TextBlob(texts)\r\n",
        "tb_tokens = blob_object.words\r\n",
        "\r\n",
        "tb_filtered = [word for word in tb_tokens if word not in stop_words]\r\n",
        "print(tb_filtered)\r\n",
        "print(len(tb_filtered))"
      ],
      "execution_count": null,
      "outputs": [
        {
          "output_type": "stream",
          "text": [
            "['mongodb', 'inc', 'notes', 'unaudited', 'condensed', 'consolidated', 'financial', 'statements', 'organization', 'description', 'ofbusiness', 'mongodb', 'inc', 'mongodb', 'company', 'originally', 'incorporated', 'state', 'delaware', 'november', 'name', 'gen', 'inc', 'august', 'company', 'changed', 'name', 'mongodb', 'inc', 'company', 'headquartered', 'new', 'york', 'city', 'mongodb', 'leading', 'modem', 'general', 'purpose', 'database', 'platform', 'company', 'robust', 'platform', 'enables', 'developers', 'build', 'modemize', 'applications', 'rapidly', 'cost', 'effectively', 'across', 'broad', 'range', 'ofuse', 'cases', 'organizations', 'deploy', 'company', 'platform', 'scale', 'cloud', 'premise', 'hybrid', 'environment', 'addition', 'selling', 'software', 'company', 'provides', 'post', 'contract', 'support', 'training', 'consulting', 'services', 'offerings', 'company', 'fiscal', 'year', 'ends', 'january', 'summary', 'signilicant', 'accounting', 'policies', 'accompanying', 'interim', 'condensed', 'consolidated', 'balance', 'sheet', 'october', 'interim', 'condensed', 'consolidated', 'statements', 'stockholders', 'equity', 'three', 'nine', 'months', 'ended', 'october', 'interim', 'condensed', 'consolidated', 'statements', 'operations', 'comprehensive', 'loss', 'three', 'nine', 'months', 'ended', 'october', 'interim', 'condensed', 'consolidated', 'statements', 'cash', 'flows', 'nine', 'months', 'ended', 'october', 'unaudited', 'interim', 'unaudited', 'condensed', 'consolidated', 'financial', 'statements', 'prepared', 'basis', 'consistent', 'annual', 'consolidated', 'financial', 'statements', 'opinion', 'ofmanagement', 'reflect', 'adjustments', 'include', 'normal', 'recurring', 'adjustments', 'necessary', 'state', 'fairly', 'company', 'financial', 'position', 'ofoctober', 'statements', 'ofstockholders', 'equity', 'ofoctober', 'results', 'ofoperations', 'comprehensive', 'loss', 'three', 'nine', 'months', 'ended', 'october', 'statements', 'cash', 'flows', 'nine', 'months', 'ended', 'october', 'financial', 'data', 'financial', 'information', 'disclosed', 'notes', 'interim', 'condensed', 'consolidated', 'financial', 'statements', 'related', 'three', 'nine', 'month', 'periods', 'also', 'unaudited', 'results', 'ofoperations', 'three', 'nine', 'months', 'ended', 'october', 'necessarily', 'indicative', 'results', 'expected', 'fiscal', 'year', 'ending', 'january', 'future', 'year', 'interim', 'period', 'interim', 'unaudited', 'condensed', 'consolidated', 'financial', 'statements', 'prepared', 'accordance', 'accounting', 'principles', 'generally', 'accepted', 'united', 'states', 'america', 'c', 'u', 'gaap', 'include', 'accounts', 'company', 'wholly', 'owned', 'subsidiaries', 'intercompany', 'transactions', 'accounts', 'eliminated', 'certain', 'information', 'note', 'disclosures', 'normally', 'included', 'financial', 'statements', 'prepared', 'accordance', 'u', 'caap', 'condensed', 'omitted', 'pursuant', 'applicable', 'rules', 'regulations', 'ofthe', 'securities', 'exchange', 'commission', 'condensed', 'balance', 'sheet', 'data', 'ofjanuary', 'derived', 'company', 'audited', 'financial', 'statements', 'include', 'disclosures', 'required', 'u', 'gaap', 'therefore', 'interim', 'unaudited', 'condensed', 'consolidated', 'financial', 'statements', 'accompanying', 'footnotes', 'read', 'conjunction', 'company', 'bnnual', 'consolidated', 'financial', 'statements', 'related', 'footnotes', 'included', 'annual', 'report', 'form', 'k', 'fiscal', 'year', 'ended', 'january', 'form', 'k', 'preparation', 'interim', 'unaudited', 'condensed', 'consolidated', 'financial', 'statements', 'conformity', 'u', 'gaap', 'requires', 'management', 'make', 'estimates', 'assumptions', 'andjudgments', 'affect', 'reported', 'amounts', 'ofassets', 'liabilities', 'disclosure', 'ofcontingent', 'assets', 'liabilities', 'date', 'ofthe', 'financial', 'statements', 'reported', 'amounts', 'ofrevenue', 'expenses', 'reporting', 'period', 'estimates', 'include', 'limited', 'revenue', 'recognition', 'allowances', 'doubtful', 'accounts', 'incremental', 'borrowing', 'rate', 'related', 'company', 'lease', 'liabilities', 'stock', 'based', 'compensation', 'fair', 'value', 'liability', 'component', 'ofthe', 'convertible', 'debt', 'fair', 'value', 'ofcommon', 'stock', 'prior', 'initial', 'public', 'offering', 'legal', 'contingencies', 'fair', 'value', 'ofacquired', 'intangible', 'assets', 'goodwill', 'useful', 'lives', 'ofacquired', 'intangible', 'assets', 'property', 'equipment', 'fair', 'value', 'ofnon', 'marketable', 'securities', 'accounting', 'income', 'taxes', 'company', 'bases', 'estimates', 'historical', 'anticipated', 'results', 'trends', 'various', 'assumptions', 'believes', 'reasonable', 'circumstances', 'including', 'assumptions', 'future', 'events', 'ongoing', 'covid', 'pandemic', 'resulted', 'global', 'slowdown', 'economic', 'activity', 'likely', 'continue', 'decrease', 'demand', 'broad', 'variety', 'goods', 'services', 'including', 'company', 'customers', 'also', 'disrupting', 'sales', 'channels', 'marketing', 'activities', 'unknown', 'period', 'time', 'company', 'currently', 'expects', 'revenue', 'continue', 'negatively', 'impacted', 'slowdown', 'activity', 'associated', 'ongoing', 'covid', 'pandemic', 'near', 'term']\n",
            "457\n"
          ],
          "name": "stdout"
        }
      ]
    },
    {
      "cell_type": "markdown",
      "metadata": {
        "id": "eSCqT1-s6pbI"
      },
      "source": [
        "###**Normalization**(Stemming & Lemmatization)"
      ]
    },
    {
      "cell_type": "markdown",
      "metadata": {
        "id": "pjpywZZBW6U1"
      },
      "source": [
        "Libraries \r\n",
        "\r\n",
        "1. WordNet\r\n",
        "2. WordNet (with POS tag)\r\n",
        "3. TextBlob\r\n",
        "4. TextBlob (with POS tag)\r\n",
        "5. spaCy\r\n",
        "6. TreeTagger\r\n",
        "7. Pattern\r\n",
        "8. Gensim\r\n",
        "9. Stanford CoreNLP"
      ]
    },
    {
      "cell_type": "markdown",
      "metadata": {
        "id": "lHwzE3m_7B2l"
      },
      "source": [
        "####Using NLTK"
      ]
    },
    {
      "cell_type": "code",
      "metadata": {
        "id": "Au-iTJ1o6wgP",
        "colab": {
          "base_uri": "https://localhost:8080/"
        },
        "outputId": "2f8af1b4-1dea-4f33-f1a0-e6045b32ea21"
      },
      "source": [
        "# Stemming\r\n",
        "ps =PorterStemmer()\r\n",
        "stem_words = [ps.stem(w) for w in nltk_filtered]\r\n",
        "print(stem_words)   \r\n",
        "print(len(stem_words))"
      ],
      "execution_count": null,
      "outputs": [
        {
          "output_type": "stream",
          "text": [
            "['mongodb', 'inc', 'note', 'unaudit', 'condens', 'consolid', 'financi', 'statement', 'organ', 'descript', 'ofbusi', 'mongodb', 'inc', 'mongodb', 'compani', 'origin', 'incorpor', 'state', 'delawar', 'novemb', 'gen', 'inc', 'august', 'compani', 'chang', 'mongodb', 'inc', 'compani', 'headquart', 'new', 'york', 'citi', 'mongodb', 'lead', 'modem', 'gener', 'purpos', 'databas', 'platform', 'compani', 'robust', 'platform', 'enabl', 'develop', 'build', 'modem', 'applic', 'rapidli', 'cost', 'effect', 'across', 'broad', 'rang', 'ofus', 'case', 'organ', 'deploy', 'compani', 'platform', 'scale', 'cloud', 'premis', 'hybrid', 'environ', 'addit', 'sell', 'softwar', 'compani', 'provid', 'post', 'contract', 'support', 'train', 'consult', 'servic', 'offer', 'compani', 'fiscal', 'year', 'end', 'januari', 'summari', 'signilic', 'account', 'polici', 'accompani', 'interim', 'condens', 'consolid', 'balanc', 'sheet', 'octob', 'interim', 'condens', 'consolid', 'statement', 'stockhold', 'equiti', 'three', 'nine', 'month', 'end', 'octob', 'interim', 'condens', 'consolid', 'statement', 'oper', 'comprehens', 'loss', 'three', 'nine', 'month', 'end', 'octob', 'interim', 'condens', 'consolid', 'statement', 'cash', 'flow', 'nine', 'month', 'end', 'octob', 'unaudit', 'interim', 'unaudit', 'condens', 'consolid', 'financi', 'statement', 'prepar', 'basi', 'consist', 'annual', 'consolid', 'financi', 'statement', 'opinion', 'ofmanag', 'reflect', 'adjust', 'includ', 'normal', 'recur', 'adjust', 'necessari', 'state', 'fairli', 'compani', 'financi', 'posit', 'ofoctob', 'statement', 'ofstockhold', 'equiti', 'ofoctob', 'result', 'ofoper', 'comprehens', 'loss', 'three', 'nine', 'month', 'end', 'octob', 'statement', 'cash', 'flow', 'nine', 'month', 'end', 'octob', 'financi', 'data', 'financi', 'inform', 'disclos', 'note', 'interim', 'condens', 'consolid', 'financi', 'statement', 'relat', 'three', 'nine', 'month', 'period', 'unaudit', 'result', 'ofoper', 'three', 'nine', 'month', 'end', 'octob', 'necessarili', 'indic', 'result', 'expect', 'fiscal', 'year', 'end', 'januari', 'futur', 'year', 'interim', 'period', 'interim', 'unaudit', 'condens', 'consolid', 'financi', 'statement', 'prepar', 'accord', 'account', 'principl', 'gener', 'accept', 'unit', 'state', 'america', 'gaap', 'includ', 'account', 'compani', 'wholli', 'own', 'subsidiari', 'intercompani', 'transact', 'account', 'elimin', 'certain', 'inform', 'note', 'disclosur', 'normal', 'includ', 'financi', 'statement', 'prepar', 'accord', 'caap', 'condens', 'omit', 'pursuant', 'applic', 'rule', 'regul', 'ofth', 'secur', 'exchang', 'commiss', 'condens', 'balanc', 'sheet', 'data', 'ofjanuari', 'deriv', 'compani', 'audit', 'financi', 'statement', 'includ', 'disclosur', 'requir', 'gaap', 'therefor', 'interim', 'unaudit', 'condens', 'consolid', 'financi', 'statement', 'accompani', 'footnot', 'read', 'conjunct', 'compani', 'bnnual', 'consolid', 'financi', 'statement', 'relat', 'footnot', 'includ', 'annual', 'report', 'form', 'fiscal', 'year', 'end', 'januari', 'form', 'prepar', 'interim', 'unaudit', 'condens', 'consolid', 'financi', 'statement', 'conform', 'gaap', 'requir', 'manag', 'make', 'estim', 'assumpt', 'andjudg', 'affect', 'report', 'amount', 'ofasset', 'liabil', 'disclosur', 'ofconting', 'asset', 'liabil', 'date', 'ofth', 'financi', 'statement', 'report', 'amount', 'ofrevenu', 'expens', 'report', 'period', 'estim', 'includ', 'limit', 'revenu', 'recognit', 'allow', 'doubt', 'account', 'increment', 'borrow', 'rate', 'relat', 'compani', 'leas', 'liabil', 'stock', 'base', 'compens', 'fair', 'valu', 'liabil', 'compon', 'ofth', 'convert', 'debt', 'fair', 'valu', 'ofcommon', 'stock', 'prior', 'initi', 'public', 'offer', 'legal', 'conting', 'fair', 'valu', 'ofacquir', 'intang', 'asset', 'goodwil', 'use', 'live', 'ofacquir', 'intang', 'asset', 'properti', 'equip', 'fair', 'valu', 'ofnon', 'market', 'secur', 'account', 'incom', 'tax', 'compani', 'base', 'estim', 'histor', 'anticip', 'result', 'trend', 'variou', 'assumpt', 'believ', 'reason', 'circumst', 'includ', 'assumpt', 'futur', 'event', 'ongo', 'covid', 'pandem', 'result', 'global', 'slowdown', 'econom', 'activ', 'like', 'continu', 'decreas', 'demand', 'broad', 'varieti', 'good', 'servic', 'includ', 'compani', 'custom', 'disrupt', 'sale', 'channel', 'market', 'activ', 'unknown', 'period', 'time', 'compani', 'current', 'expect', 'revenu', 'continu', 'neg', 'impact', 'slowdown', 'activ', 'associ', 'ongo', 'covid', 'pandem', 'near', 'term']\n",
            "446\n"
          ],
          "name": "stdout"
        }
      ]
    },
    {
      "cell_type": "code",
      "metadata": {
        "id": "RtrpAEZ28nqX",
        "colab": {
          "base_uri": "https://localhost:8080/"
        },
        "outputId": "f8007fc0-bb81-45f6-911a-f15701d4bf02"
      },
      "source": [
        "# Lemmatization\r\n",
        "wordnet_lemmatizer = WordNetLemmatizer()\r\n",
        "lemma_nltk= [wordnet_lemmatizer.lemmatize(w) for w in nltk_filtered]\r\n",
        "print(lemma_nltk)\r\n",
        "print(len(lemma_nltk))"
      ],
      "execution_count": null,
      "outputs": [
        {
          "output_type": "stream",
          "text": [
            "['mongodb', 'inc', 'note', 'unaudited', 'condensed', 'consolidated', 'financial', 'statement', 'organization', 'description', 'ofbusiness', 'mongodb', 'inc', 'mongodb', 'company', 'originally', 'incorporated', 'state', 'delaware', 'november', 'gen', 'inc', 'august', 'company', 'changed', 'mongodb', 'inc', 'company', 'headquartered', 'new', 'york', 'city', 'mongodb', 'leading', 'modem', 'general', 'purpose', 'database', 'platform', 'company', 'robust', 'platform', 'enables', 'developer', 'build', 'modemize', 'application', 'rapidly', 'cost', 'effectively', 'across', 'broad', 'range', 'ofuse', 'case', 'organization', 'deploy', 'company', 'platform', 'scale', 'cloud', 'premise', 'hybrid', 'environment', 'addition', 'selling', 'software', 'company', 'provides', 'post', 'contract', 'support', 'training', 'consulting', 'service', 'offering', 'company', 'fiscal', 'year', 'end', 'january', 'summary', 'signilicant', 'accounting', 'policy', 'accompanying', 'interim', 'condensed', 'consolidated', 'balance', 'sheet', 'october', 'interim', 'condensed', 'consolidated', 'statement', 'stockholder', 'equity', 'three', 'nine', 'month', 'ended', 'october', 'interim', 'condensed', 'consolidated', 'statement', 'operation', 'comprehensive', 'loss', 'three', 'nine', 'month', 'ended', 'october', 'interim', 'condensed', 'consolidated', 'statement', 'cash', 'flow', 'nine', 'month', 'ended', 'october', 'unaudited', 'interim', 'unaudited', 'condensed', 'consolidated', 'financial', 'statement', 'prepared', 'basis', 'consistent', 'annual', 'consolidated', 'financial', 'statement', 'opinion', 'ofmanagement', 'reflect', 'adjustment', 'include', 'normal', 'recurring', 'adjustment', 'necessary', 'state', 'fairly', 'company', 'financial', 'position', 'ofoctober', 'statement', 'ofstockholders', 'equity', 'ofoctober', 'result', 'ofoperations', 'comprehensive', 'loss', 'three', 'nine', 'month', 'ended', 'october', 'statement', 'cash', 'flow', 'nine', 'month', 'ended', 'october', 'financial', 'data', 'financial', 'information', 'disclosed', 'note', 'interim', 'condensed', 'consolidated', 'financial', 'statement', 'related', 'three', 'nine', 'month', 'period', 'unaudited', 'result', 'ofoperations', 'three', 'nine', 'month', 'ended', 'october', 'necessarily', 'indicative', 'result', 'expected', 'fiscal', 'year', 'ending', 'january', 'future', 'year', 'interim', 'period', 'interim', 'unaudited', 'condensed', 'consolidated', 'financial', 'statement', 'prepared', 'accordance', 'accounting', 'principle', 'generally', 'accepted', 'united', 'state', 'america', 'gaap', 'include', 'account', 'company', 'wholly', 'owned', 'subsidiary', 'intercompany', 'transaction', 'account', 'eliminated', 'certain', 'information', 'note', 'disclosure', 'normally', 'included', 'financial', 'statement', 'prepared', 'accordance', 'caap', 'condensed', 'omitted', 'pursuant', 'applicable', 'rule', 'regulation', 'ofthe', 'security', 'exchange', 'commission', 'condensed', 'balance', 'sheet', 'data', 'ofjanuary', 'derived', 'company', 'audited', 'financial', 'statement', 'include', 'disclosure', 'required', 'gaap', 'therefore', 'interim', 'unaudited', 'condensed', 'consolidated', 'financial', 'statement', 'accompanying', 'footnote', 'read', 'conjunction', 'company', 'bnnual', 'consolidated', 'financial', 'statement', 'related', 'footnote', 'included', 'annual', 'report', 'form', 'fiscal', 'year', 'ended', 'january', 'form', 'preparation', 'interim', 'unaudited', 'condensed', 'consolidated', 'financial', 'statement', 'conformity', 'gaap', 'requires', 'management', 'make', 'estimate', 'assumption', 'andjudgments', 'affect', 'reported', 'amount', 'ofassets', 'liability', 'disclosure', 'ofcontingent', 'asset', 'liability', 'date', 'ofthe', 'financial', 'statement', 'reported', 'amount', 'ofrevenue', 'expense', 'reporting', 'period', 'estimate', 'include', 'limited', 'revenue', 'recognition', 'allowance', 'doubtful', 'account', 'incremental', 'borrowing', 'rate', 'related', 'company', 'lease', 'liability', 'stock', 'based', 'compensation', 'fair', 'value', 'liability', 'component', 'ofthe', 'convertible', 'debt', 'fair', 'value', 'ofcommon', 'stock', 'prior', 'initial', 'public', 'offering', 'legal', 'contingency', 'fair', 'value', 'ofacquired', 'intangible', 'asset', 'goodwill', 'useful', 'life', 'ofacquired', 'intangible', 'asset', 'property', 'equipment', 'fair', 'value', 'ofnon', 'marketable', 'security', 'accounting', 'income', 'tax', 'company', 'base', 'estimate', 'historical', 'anticipated', 'result', 'trend', 'various', 'assumption', 'belief', 'reasonable', 'circumstance', 'including', 'assumption', 'future', 'event', 'ongoing', 'covid', 'pandemic', 'resulted', 'global', 'slowdown', 'economic', 'activity', 'likely', 'continue', 'decrease', 'demand', 'broad', 'variety', 'good', 'service', 'including', 'company', 'customer', 'disrupting', 'sale', 'channel', 'marketing', 'activity', 'unknown', 'period', 'time', 'company', 'currently', 'expects', 'revenue', 'continue', 'negatively', 'impacted', 'slowdown', 'activity', 'associated', 'ongoing', 'covid', 'pandemic', 'near', 'term']\n",
            "446\n"
          ],
          "name": "stdout"
        }
      ]
    },
    {
      "cell_type": "code",
      "metadata": {
        "id": "DI87fLvc8WQB"
      },
      "source": [
        ""
      ],
      "execution_count": null,
      "outputs": []
    },
    {
      "cell_type": "markdown",
      "metadata": {
        "id": "4xRXGdgkBsPY"
      },
      "source": [
        "####Using Spacy"
      ]
    },
    {
      "cell_type": "markdown",
      "metadata": {
        "id": "_WyP0oDIKDM5"
      },
      "source": [
        "1. Tokenization\r\n",
        "2. Lemmatization\r\n",
        "\r\n",
        "    Both 1 & 2 go hand in hand\r\n",
        "3. Stopwords Removal\r\n"
      ]
    },
    {
      "cell_type": "code",
      "metadata": {
        "id": "-KoxjQ_FBu45",
        "colab": {
          "base_uri": "https://localhost:8080/"
        },
        "outputId": "e9812bc0-249d-4db5-ea0a-81834530cc36"
      },
      "source": [
        "# Tokenization & Lemmatization\r\n",
        "spacy_filter_joined = \" \".join(spacy_filtered)\r\n",
        "lemma_spacy = [token.lemma_ for token in spacy_doc]\r\n",
        "\r\n",
        "# Stopwords Removal\r\n",
        "spacy_filtered1 = []\r\n",
        "for word in lemma_spacy:\r\n",
        "    lexeme = nlp.vocab[word]\r\n",
        "    if lexeme.is_stop == False:\r\n",
        "        spacy_filtered1.append(word) \r\n",
        "print(lemma_spacy)\r\n",
        "print(len(lemma_spacy))\r\n",
        "print(spacy_filtered1)\r\n",
        "print(len(spacy_filtered1))"
      ],
      "execution_count": null,
      "outputs": [
        {
          "output_type": "stream",
          "text": [
            "['mongodb', 'inc', 'notes', 'to', 'unaudited', 'condensed', 'consolidated', 'financial', 'statements', 'organization', 'and', 'description', 'ofbusiness', 'mongodb', 'inc', 'mongodb', 'or', 'the', 'company', 'was', 'originally', 'incorporated', 'the', 'state', 'of', 'delaware', 'november', 'under', 'the', 'name', 'gen', 'inc', 'in', 'august', 'the', 'company', 'changed', 'its', 'name', 'to', 'mongodb', 'inc', 'the', 'company', 'headquartered', 'new', 'york', 'city', 'mongodb', 'the', 'leading', 'modem', 'general', 'purpose', 'database', 'platform', 'the', 'company', 's', 'robust', 'platform', 'enables', 'developers', 'to', 'build', 'and', 'modemize', 'applications', 'rapidly', 'and', 'cost', 'effectively', 'across', 'a', 'broad', 'range', 'ofuse', 'cases', 'organizations', 'can', 'deploy', 'the', 'company', 's', 'platform', 'at', 'scale', 'the', 'cloud', 'on', 'premise', 'or', 'a', 'hybrid', 'environment', 'in', 'addition', 'to', 'selling', 'its', 'software', 'the', 'company', 'provides', 'post', 'contract', 'support', 'training', 'and', 'consulting', 'services', 'for', 'its', 'offerings', 'the', 'company', 's', 'fiscal', 'year', 'ends', 'january', 'summary', 'of', 'signilicant', 'accounting', 'policies', 'the', 'accompanying', 'interim', 'condensed', 'consolidated', 'balance', 'sheet', 'as', 'of', 'october', 'the', 'interim', 'condensed', 'consolidated', 'statements', 'of', 'stockholders', 'equity', 'for', 'the', 'three', 'and', 'nine', 'months', 'ended', 'october', 'i', 'and', 'i', 'the', 'interim', 'condensed', 'consolidated', 'statements', 'of', 'operations', 'and', 'of', 'comprehensive', 'loss', 'for', 'the', 'three', 'and', 'nine', 'months', 'ended', 'october', 'i', 'and', 'i', 'and', 'the', 'interim', 'condensed', 'consolidated', 'statements', 'of', 'cash', 'flows', 'for', 'the', 'nine', 'months', 'ended', 'october', 'and', 'are', 'unaudited', 'the', 'interim', 'unaudited', 'condensed', 'consolidated', 'financial', 'statements', 'have', 'been', 'prepared', 'on', 'a', 'basis', 'consistent', 'with', 'the', 'annual', 'consolidated', 'financial', 'statements', 'and', 'the', 'opinion', 'ofmanagement', 'reflect', 'all', 'adjustments', 'which', 'include', 'only', 'normal', 'recurring', 'adjustments', 'necessary', 'to', 'state', 'fairly', 'the', 'company', 's', 'financial', 'position', 'as', 'ofoctober', 'its', 'statements', 'ofstockholders', 'equity', 'as', 'ofoctober', 'and', 'its', 'results', 'ofoperations', 'and', 'of', 'comprehensive', 'loss', 'for', 'the', 'three', 'and', 'nine', 'months', 'ended', 'october', 'and', 'i', 'and', 'its', 'statements', 'of', 'cash', 'flows', 'for', 'the', 'nine', 'months', 'ended', 'october', 'i', 'and', 'the', 'financial', 'data', 'and', 'the', 'other', 'financial', 'information', 'disclosed', 'the', 'notes', 'to', 'these', 'interim', 'condensed', 'consolidated', 'financial', 'statements', 'related', 'to', 'the', 'three', 'and', 'nine', 'month', 'periods', 'are', 'also', 'unaudited', 'the', 'results', 'ofoperations', 'for', 'the', 'three', 'and', 'nine', 'months', 'ended', 'october', 'are', 'not', 'necessarily', 'indicative', 'of', 'the', 'results', 'to', 'be', 'expected', 'for', 'the', 'fiscal', 'year', 'ending', 'january', 'or', 'for', 'any', 'other', 'future', 'year', 'or', 'interim', 'period', 'the', 'interim', 'unaudited', 'condensed', 'consolidated', 'financial', 'statements', 'have', 'been', 'prepared', 'accordance', 'with', 'accounting', 'principles', 'generally', 'accepted', 'the', 'united', 'states', 'of', 'america', 'c', 'u', 's', 'gaap', 'and', 'include', 'the', 'accounts', 'of', 'the', 'company', 'and', 'its', 'wholly', 'owned', 'subsidiaries', 'all', 'intercompany', 'transactions', 'and', 'accounts', 'have', 'been', 'eliminated', 'certain', 'information', 'and', 'note', 'disclosures', 'normally', 'included', 'the', 'financial', 'statements', 'prepared', 'accordance', 'with', 'u', 's', 'caap', 'have', 'been', 'condensed', 'or', 'omitted', 'pursuant', 'to', 'the', 'applicable', 'rules', 'and', 'regulations', 'ofthe', 'securities', 'and', 'exchange', 'commission', 'the', 'condensed', 'balance', 'sheet', 'data', 'as', 'ofjanuary', 'was', 'derived', 'from', 'the', 'company', 's', 'audited', 'financial', 'statements', 'but', 'does', 'not', 'include', 'all', 'disclosures', 'required', 'by', 'u', 's', 'gaap', 'therefore', 'these', 'interim', 'unaudited', 'condensed', 'consolidated', 'financial', 'statements', 'and', 'accompanying', 'footnotes', 'should', 'be', 'read', 'conjunction', 'with', 'the', 'company', 's', 'bnnual', 'consolidated', 'financial', 'statements', 'and', 'related', 'footnotes', 'included', 'its', 'annual', 'report', 'on', 'form', 'k', 'for', 'the', 'fiscal', 'year', 'ended', 'january', 'the', 'form', 'k', 'the', 'preparation', 'of', 'the', 'interim', 'unaudited', 'condensed', 'consolidated', 'financial', 'statements', 'conformity', 'with', 'u', 's', 'gaap', 'requires', 'management', 'to', 'make', 'estimates', 'assumptions', 'andjudgments', 'that', 'affect', 'the', 'reported', 'amounts', 'ofassets', 'and', 'liabilities', 'disclosure', 'ofcontingent', 'assets', 'and', 'liabilities', 'at', 'the', 'date', 'ofthe', 'financial', 'statements', 'and', 'the', 'reported', 'amounts', 'ofrevenue', 'and', 'expenses', 'during', 'the', 'reporting', 'period', 'such', 'estimates', 'include', 'but', 'are', 'not', 'limited', 'to', 'revenue', 'recognition', 'allowances', 'for', 'doubtful', 'accounts', 'the', 'incremental', 'borrowing', 'rate', 'related', 'to', 'the', 'company', 's', 'lease', 'liabilities', 'stock', 'based', 'compensation', 'fair', 'value', 'of', 'the', 'liability', 'component', 'ofthe', 'convertible', 'debt', 'fair', 'value', 'ofcommon', 'stock', 'prior', 'to', 'the', 'initial', 'public', 'offering', 'legal', 'contingencies', 'fair', 'value', 'ofacquired', 'intangible', 'assets', 'and', 'goodwill', 'useful', 'lives', 'ofacquired', 'intangible', 'assets', 'and', 'property', 'and', 'equipment', 'fair', 'value', 'ofnon', 'marketable', 'securities', 'and', 'accounting', 'for', 'income', 'taxes', 'the', 'company', 'bases', 'these', 'estimates', 'on', 'historical', 'and', 'anticipated', 'results', 'trends', 'and', 'various', 'other', 'assumptions', 'that', 'believes', 'are', 'reasonable', 'under', 'the', 'circumstances', 'including', 'assumptions', 'as', 'to', 'future', 'events', 'the', 'ongoing', 'covid', 'pandemic', 'has', 'resulted', 'a', 'global', 'slowdown', 'of', 'economic', 'activity', 'that', 'likely', 'to', 'continue', 'to', 'decrease', 'demand', 'for', 'a', 'broad', 'variety', 'of', 'goods', 'and', 'services', 'including', 'from', 'the', 'company', 's', 'customers', 'while', 'also', 'disrupting', 'sales', 'channels', 'and', 'marketing', 'activities', 'for', 'an', 'unknown', 'period', 'of', 'time', 'the', 'company', 'currently', 'expects', 'its', 'revenue', 'to', 'continue', 'to', 'be', 'negatively', 'impacted', 'by', 'the', 'slowdown', 'activity', 'associated', 'with', 'the', 'ongoing', 'covid', 'i', 'pandemic', 'the', 'near', 'term']\n",
            "717\n",
            "['mongodb', 'inc', 'notes', 'unaudited', 'condensed', 'consolidated', 'financial', 'statements', 'organization', 'description', 'ofbusiness', 'mongodb', 'inc', 'mongodb', 'company', 'originally', 'incorporated', 'state', 'delaware', 'november', 'gen', 'inc', 'august', 'company', 'changed', 'mongodb', 'inc', 'company', 'headquartered', 'new', 'york', 'city', 'mongodb', 'leading', 'modem', 'general', 'purpose', 'database', 'platform', 'company', 's', 'robust', 'platform', 'enables', 'developers', 'build', 'modemize', 'applications', 'rapidly', 'cost', 'effectively', 'broad', 'range', 'ofuse', 'cases', 'organizations', 'deploy', 'company', 's', 'platform', 'scale', 'cloud', 'premise', 'hybrid', 'environment', 'addition', 'selling', 'software', 'company', 'provides', 'post', 'contract', 'support', 'training', 'consulting', 'services', 'offerings', 'company', 's', 'fiscal', 'year', 'ends', 'january', 'summary', 'signilicant', 'accounting', 'policies', 'accompanying', 'interim', 'condensed', 'consolidated', 'balance', 'sheet', 'october', 'interim', 'condensed', 'consolidated', 'statements', 'stockholders', 'equity', 'months', 'ended', 'october', 'interim', 'condensed', 'consolidated', 'statements', 'operations', 'comprehensive', 'loss', 'months', 'ended', 'october', 'interim', 'condensed', 'consolidated', 'statements', 'cash', 'flows', 'months', 'ended', 'october', 'unaudited', 'interim', 'unaudited', 'condensed', 'consolidated', 'financial', 'statements', 'prepared', 'basis', 'consistent', 'annual', 'consolidated', 'financial', 'statements', 'opinion', 'ofmanagement', 'reflect', 'adjustments', 'include', 'normal', 'recurring', 'adjustments', 'necessary', 'state', 'fairly', 'company', 's', 'financial', 'position', 'ofoctober', 'statements', 'ofstockholders', 'equity', 'ofoctober', 'results', 'ofoperations', 'comprehensive', 'loss', 'months', 'ended', 'october', 'statements', 'cash', 'flows', 'months', 'ended', 'october', 'financial', 'data', 'financial', 'information', 'disclosed', 'notes', 'interim', 'condensed', 'consolidated', 'financial', 'statements', 'related', 'month', 'periods', 'unaudited', 'results', 'ofoperations', 'months', 'ended', 'october', 'necessarily', 'indicative', 'results', 'expected', 'fiscal', 'year', 'ending', 'january', 'future', 'year', 'interim', 'period', 'interim', 'unaudited', 'condensed', 'consolidated', 'financial', 'statements', 'prepared', 'accordance', 'accounting', 'principles', 'generally', 'accepted', 'united', 'states', 'america', 'c', 'u', 's', 'gaap', 'include', 'accounts', 'company', 'wholly', 'owned', 'subsidiaries', 'intercompany', 'transactions', 'accounts', 'eliminated', 'certain', 'information', 'note', 'disclosures', 'normally', 'included', 'financial', 'statements', 'prepared', 'accordance', 'u', 's', 'caap', 'condensed', 'omitted', 'pursuant', 'applicable', 'rules', 'regulations', 'ofthe', 'securities', 'exchange', 'commission', 'condensed', 'balance', 'sheet', 'data', 'ofjanuary', 'derived', 'company', 's', 'audited', 'financial', 'statements', 'include', 'disclosures', 'required', 'u', 's', 'gaap', 'interim', 'unaudited', 'condensed', 'consolidated', 'financial', 'statements', 'accompanying', 'footnotes', 'read', 'conjunction', 'company', 's', 'bnnual', 'consolidated', 'financial', 'statements', 'related', 'footnotes', 'included', 'annual', 'report', 'form', 'k', 'fiscal', 'year', 'ended', 'january', 'form', 'k', 'preparation', 'interim', 'unaudited', 'condensed', 'consolidated', 'financial', 'statements', 'conformity', 'u', 's', 'gaap', 'requires', 'management', 'estimates', 'assumptions', 'andjudgments', 'affect', 'reported', 'amounts', 'ofassets', 'liabilities', 'disclosure', 'ofcontingent', 'assets', 'liabilities', 'date', 'ofthe', 'financial', 'statements', 'reported', 'amounts', 'ofrevenue', 'expenses', 'reporting', 'period', 'estimates', 'include', 'limited', 'revenue', 'recognition', 'allowances', 'doubtful', 'accounts', 'incremental', 'borrowing', 'rate', 'related', 'company', 's', 'lease', 'liabilities', 'stock', 'based', 'compensation', 'fair', 'value', 'liability', 'component', 'ofthe', 'convertible', 'debt', 'fair', 'value', 'ofcommon', 'stock', 'prior', 'initial', 'public', 'offering', 'legal', 'contingencies', 'fair', 'value', 'ofacquired', 'intangible', 'assets', 'goodwill', 'useful', 'lives', 'ofacquired', 'intangible', 'assets', 'property', 'equipment', 'fair', 'value', 'ofnon', 'marketable', 'securities', 'accounting', 'income', 'taxes', 'company', 'bases', 'estimates', 'historical', 'anticipated', 'results', 'trends', 'assumptions', 'believes', 'reasonable', 'circumstances', 'including', 'assumptions', 'future', 'events', 'ongoing', 'covid', 'pandemic', 'resulted', 'global', 'slowdown', 'economic', 'activity', 'likely', 'continue', 'decrease', 'demand', 'broad', 'variety', 'goods', 'services', 'including', 'company', 's', 'customers', 'disrupting', 'sales', 'channels', 'marketing', 'activities', 'unknown', 'period', 'time', 'company', 'currently', 'expects', 'revenue', 'continue', 'negatively', 'impacted', 'slowdown', 'activity', 'associated', 'ongoing', 'covid', 'pandemic', 'near', 'term']\n",
            "449\n"
          ],
          "name": "stdout"
        }
      ]
    },
    {
      "cell_type": "code",
      "metadata": {
        "id": "-eVoz73ZJ2hn"
      },
      "source": [
        ""
      ],
      "execution_count": null,
      "outputs": []
    },
    {
      "cell_type": "markdown",
      "metadata": {
        "id": "hafL3YrXM7jC"
      },
      "source": [
        "####Using TextBlob"
      ]
    },
    {
      "cell_type": "code",
      "metadata": {
        "id": "122fVFGgNFya",
        "colab": {
          "base_uri": "https://localhost:8080/"
        },
        "outputId": "cab5e8e3-f261-45ec-c669-0364a2713d60"
      },
      "source": [
        "# lem = []\r\n",
        "# for i in text.split():\r\n",
        "#     word1 = Word(i).lemmatize(\"n\")\r\n",
        "#     word2 = Word(word1).lemmatize(\"v\")\r\n",
        "#     word3 = Word(word2).lemmatize(\"a\")\r\n",
        "#     lem.append(Word(word3).lemmatize())\r\n",
        "tb_lem = [i.lemmatize() for i in tb_filtered]\r\n",
        "print(tb_lem)\r\n",
        "print(len(tb_lem))"
      ],
      "execution_count": null,
      "outputs": [
        {
          "output_type": "stream",
          "text": [
            "['mongodb', 'inc', 'note', 'unaudited', 'condensed', 'consolidated', 'financial', 'statement', 'organization', 'description', 'ofbusiness', 'mongodb', 'inc', 'mongodb', 'company', 'originally', 'incorporated', 'state', 'delaware', 'november', 'name', 'gen', 'inc', 'august', 'company', 'changed', 'name', 'mongodb', 'inc', 'company', 'headquartered', 'new', 'york', 'city', 'mongodb', 'leading', 'modem', 'general', 'purpose', 'database', 'platform', 'company', 'robust', 'platform', 'enables', 'developer', 'build', 'modemize', 'application', 'rapidly', 'cost', 'effectively', 'across', 'broad', 'range', 'ofuse', 'case', 'organization', 'deploy', 'company', 'platform', 'scale', 'cloud', 'premise', 'hybrid', 'environment', 'addition', 'selling', 'software', 'company', 'provides', 'post', 'contract', 'support', 'training', 'consulting', 'service', 'offering', 'company', 'fiscal', 'year', 'end', 'january', 'summary', 'signilicant', 'accounting', 'policy', 'accompanying', 'interim', 'condensed', 'consolidated', 'balance', 'sheet', 'october', 'interim', 'condensed', 'consolidated', 'statement', 'stockholder', 'equity', 'three', 'nine', 'month', 'ended', 'october', 'interim', 'condensed', 'consolidated', 'statement', 'operation', 'comprehensive', 'loss', 'three', 'nine', 'month', 'ended', 'october', 'interim', 'condensed', 'consolidated', 'statement', 'cash', 'flow', 'nine', 'month', 'ended', 'october', 'unaudited', 'interim', 'unaudited', 'condensed', 'consolidated', 'financial', 'statement', 'prepared', 'basis', 'consistent', 'annual', 'consolidated', 'financial', 'statement', 'opinion', 'ofmanagement', 'reflect', 'adjustment', 'include', 'normal', 'recurring', 'adjustment', 'necessary', 'state', 'fairly', 'company', 'financial', 'position', 'ofoctober', 'statement', 'ofstockholders', 'equity', 'ofoctober', 'result', 'ofoperations', 'comprehensive', 'loss', 'three', 'nine', 'month', 'ended', 'october', 'statement', 'cash', 'flow', 'nine', 'month', 'ended', 'october', 'financial', 'data', 'financial', 'information', 'disclosed', 'note', 'interim', 'condensed', 'consolidated', 'financial', 'statement', 'related', 'three', 'nine', 'month', 'period', 'also', 'unaudited', 'result', 'ofoperations', 'three', 'nine', 'month', 'ended', 'october', 'necessarily', 'indicative', 'result', 'expected', 'fiscal', 'year', 'ending', 'january', 'future', 'year', 'interim', 'period', 'interim', 'unaudited', 'condensed', 'consolidated', 'financial', 'statement', 'prepared', 'accordance', 'accounting', 'principle', 'generally', 'accepted', 'united', 'state', 'america', 'c', 'u', 'gaap', 'include', 'account', 'company', 'wholly', 'owned', 'subsidiary', 'intercompany', 'transaction', 'account', 'eliminated', 'certain', 'information', 'note', 'disclosure', 'normally', 'included', 'financial', 'statement', 'prepared', 'accordance', 'u', 'caap', 'condensed', 'omitted', 'pursuant', 'applicable', 'rule', 'regulation', 'ofthe', 'security', 'exchange', 'commission', 'condensed', 'balance', 'sheet', 'data', 'ofjanuary', 'derived', 'company', 'audited', 'financial', 'statement', 'include', 'disclosure', 'required', 'u', 'gaap', 'therefore', 'interim', 'unaudited', 'condensed', 'consolidated', 'financial', 'statement', 'accompanying', 'footnote', 'read', 'conjunction', 'company', 'bnnual', 'consolidated', 'financial', 'statement', 'related', 'footnote', 'included', 'annual', 'report', 'form', 'k', 'fiscal', 'year', 'ended', 'january', 'form', 'k', 'preparation', 'interim', 'unaudited', 'condensed', 'consolidated', 'financial', 'statement', 'conformity', 'u', 'gaap', 'requires', 'management', 'make', 'estimate', 'assumption', 'andjudgments', 'affect', 'reported', 'amount', 'ofassets', 'liability', 'disclosure', 'ofcontingent', 'asset', 'liability', 'date', 'ofthe', 'financial', 'statement', 'reported', 'amount', 'ofrevenue', 'expense', 'reporting', 'period', 'estimate', 'include', 'limited', 'revenue', 'recognition', 'allowance', 'doubtful', 'account', 'incremental', 'borrowing', 'rate', 'related', 'company', 'lease', 'liability', 'stock', 'based', 'compensation', 'fair', 'value', 'liability', 'component', 'ofthe', 'convertible', 'debt', 'fair', 'value', 'ofcommon', 'stock', 'prior', 'initial', 'public', 'offering', 'legal', 'contingency', 'fair', 'value', 'ofacquired', 'intangible', 'asset', 'goodwill', 'useful', 'life', 'ofacquired', 'intangible', 'asset', 'property', 'equipment', 'fair', 'value', 'ofnon', 'marketable', 'security', 'accounting', 'income', 'tax', 'company', 'base', 'estimate', 'historical', 'anticipated', 'result', 'trend', 'various', 'assumption', 'belief', 'reasonable', 'circumstance', 'including', 'assumption', 'future', 'event', 'ongoing', 'covid', 'pandemic', 'resulted', 'global', 'slowdown', 'economic', 'activity', 'likely', 'continue', 'decrease', 'demand', 'broad', 'variety', 'good', 'service', 'including', 'company', 'customer', 'also', 'disrupting', 'sale', 'channel', 'marketing', 'activity', 'unknown', 'period', 'time', 'company', 'currently', 'expects', 'revenue', 'continue', 'negatively', 'impacted', 'slowdown', 'activity', 'associated', 'ongoing', 'covid', 'pandemic', 'near', 'term']\n",
            "457\n"
          ],
          "name": "stdout"
        }
      ]
    },
    {
      "cell_type": "markdown",
      "metadata": {
        "id": "hPZgSisCSvM2"
      },
      "source": [
        "####Using gensim"
      ]
    },
    {
      "cell_type": "code",
      "metadata": {
        "id": "TeMogCwSSy31",
        "colab": {
          "base_uri": "https://localhost:8080/",
          "height": 426
        },
        "outputId": "ce7bb001-3d24-4b05-de23-5c72c6c92ec4"
      },
      "source": [
        "# lemmatized_out = [wd for wd in lemmatize(gensim_filtered)]"
      ],
      "execution_count": null,
      "outputs": [
        {
          "output_type": "error",
          "ename": "ImportError",
          "evalue": "ignored",
          "traceback": [
            "\u001b[0;31m---------------------------------------------------------------------------\u001b[0m",
            "\u001b[0;31mImportError\u001b[0m                               Traceback (most recent call last)",
            "\u001b[0;32m<ipython-input-27-173047f00db2>\u001b[0m in \u001b[0;36m<module>\u001b[0;34m()\u001b[0m\n\u001b[0;32m----> 1\u001b[0;31m \u001b[0mlemmatized_out\u001b[0m \u001b[0;34m=\u001b[0m \u001b[0;34m[\u001b[0m\u001b[0mwd\u001b[0m \u001b[0;32mfor\u001b[0m \u001b[0mwd\u001b[0m \u001b[0;32min\u001b[0m \u001b[0mlemmatize\u001b[0m\u001b[0;34m(\u001b[0m\u001b[0mgensim_filtered\u001b[0m\u001b[0;34m)\u001b[0m\u001b[0;34m]\u001b[0m\u001b[0;34m\u001b[0m\u001b[0;34m\u001b[0m\u001b[0m\n\u001b[0m",
            "\u001b[0;32m/usr/local/lib/python3.6/dist-packages/gensim/utils.py\u001b[0m in \u001b[0;36mlemmatize\u001b[0;34m(content, allowed_tags, light, stopwords, min_length, max_length)\u001b[0m\n\u001b[1;32m   1639\u001b[0m     \u001b[0;32mif\u001b[0m \u001b[0;32mnot\u001b[0m \u001b[0mhas_pattern\u001b[0m\u001b[0;34m(\u001b[0m\u001b[0;34m)\u001b[0m\u001b[0;34m:\u001b[0m\u001b[0;34m\u001b[0m\u001b[0;34m\u001b[0m\u001b[0m\n\u001b[1;32m   1640\u001b[0m         raise ImportError(\n\u001b[0;32m-> 1641\u001b[0;31m             \u001b[0;34m\"Pattern library is not installed. Pattern library is needed in order to use lemmatize function\"\u001b[0m\u001b[0;34m\u001b[0m\u001b[0;34m\u001b[0m\u001b[0m\n\u001b[0m\u001b[1;32m   1642\u001b[0m         )\n\u001b[1;32m   1643\u001b[0m     \u001b[0;32mfrom\u001b[0m \u001b[0mpattern\u001b[0m\u001b[0;34m.\u001b[0m\u001b[0men\u001b[0m \u001b[0;32mimport\u001b[0m \u001b[0mparse\u001b[0m\u001b[0;34m\u001b[0m\u001b[0;34m\u001b[0m\u001b[0m\n",
            "\u001b[0;31mImportError\u001b[0m: Pattern library is not installed. Pattern library is needed in order to use lemmatize function",
            "",
            "\u001b[0;31m---------------------------------------------------------------------------\u001b[0;32m\nNOTE: If your import is failing due to a missing package, you can\nmanually install dependencies using either !pip or !apt.\n\nTo view examples of installing some common dependencies, click the\n\"Open Examples\" button below.\n\u001b[0;31m---------------------------------------------------------------------------\u001b[0m\n"
          ]
        }
      ]
    },
    {
      "cell_type": "code",
      "metadata": {
        "id": "9CuYEH1TVDG0"
      },
      "source": [
        ""
      ],
      "execution_count": null,
      "outputs": []
    }
  ]
}