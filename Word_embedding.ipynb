{
  "nbformat": 4,
  "nbformat_minor": 0,
  "metadata": {
    "colab": {
      "name": "Word embedding.ipynb",
      "provenance": [],
      "collapsed_sections": [],
      "authorship_tag": "ABX9TyP1XN/0N9ZeOKwYRervNN3F",
      "include_colab_link": true
    },
    "kernelspec": {
      "name": "python3",
      "display_name": "Python 3"
    }
  },
  "cells": [
    {
      "cell_type": "markdown",
      "metadata": {
        "id": "view-in-github",
        "colab_type": "text"
      },
      "source": [
        "<a href=\"https://colab.research.google.com/github/Pushkarp26/NLP-Self-Practice/blob/main/Word_embedding.ipynb\" target=\"_parent\"><img src=\"https://colab.research.google.com/assets/colab-badge.svg\" alt=\"Open In Colab\"/></a>"
      ]
    },
    {
      "cell_type": "markdown",
      "metadata": {
        "id": "_iBd7Dcrfrc9"
      },
      "source": [
        "#**OVERVIEW**\r\n",
        "\r\n",
        "In this notebook we are gonna try different combinations of ***Text-Preprocessing*** with ***Word Embedding techniques***"
      ]
    },
    {
      "cell_type": "markdown",
      "metadata": {
        "id": "LcRergSeIRCQ"
      },
      "source": [
        "###**Importing Libraries**"
      ]
    },
    {
      "cell_type": "code",
      "metadata": {
        "id": "HnlVTiirNVgN"
      },
      "source": [
        "# !pip install pdfplumber\r\n",
        "!pip install textblob\r\n",
        "!pip install pyspellchecker\r\n",
        "!pip install gensim\r\n",
        "!pip install Pattern3\r\n",
        "# import pdfplumber\r\n",
        "import re\r\n",
        "import nltk\r\n",
        "nltk.download('stopwords')\r\n",
        "nltk.download('punkt')\r\n",
        "from nltk.corpus import stopwords\r\n",
        "from nltk.tokenize import word_tokenize \r\n",
        "from nltk.stem import WordNetLemmatizer\r\n",
        "nltk.download('wordnet') \r\n",
        "from textblob import TextBlob\r\n",
        "from spellchecker import SpellChecker\r\n",
        "import spacy\r\n",
        "from gensim.parsing.preprocessing import remove_stopwords\r\n",
        "from nltk.stem import PorterStemmer\r\n",
        "from nltk.stem import WordNetLemmatizer\r\n",
        "from nltk.stem import WordNetLemmatizer\r\n",
        "from textblob import TextBlob \r\n",
        "from textblob import Word \r\n",
        "from gensim.utils import lemmatize \r\n",
        "import pattern3\r\n",
        "from gensim import utils \r\n",
        "from gensim import corpora\r\n",
        "import numpy as np\r\n",
        "from gensim import models"
      ],
      "execution_count": null,
      "outputs": []
    },
    {
      "cell_type": "markdown",
      "metadata": {
        "id": "pBrK3-YqIkf5"
      },
      "source": [
        "###**Extracting text from pdf**"
      ]
    },
    {
      "cell_type": "code",
      "metadata": {
        "id": "oUfNSrfE8Wft",
        "colab": {
          "base_uri": "https://localhost:8080/"
        },
        "outputId": "e2deb6ed-eb2b-499a-b050-ef40c4c0925c"
      },
      "source": [
        "with pdfplumber.open(r'/content/Highlighted Text.pdf') as pdf:\r\n",
        "    first_page = pdf.pages[0]\r\n",
        "    print(first_page.extract_text())"
      ],
      "execution_count": 3,
      "outputs": [
        {
          "output_type": "stream",
          "text": [
            "I ahle ol (l0ntcnts\n",
            "MONGODB, INC.\n",
            "NOTES TO UNAUDITED CONDENSED CONSOLIDATED FINANCIAL STATEMENTS\n",
            "l. \n",
            "Organization and Description ofBusiness\n",
            "MongoDB, Inc. (\"MongoDB\" or the \"Company\") was originally incorporated in the state of Delaware in November 2007 under the name l0Gen, Inc. In\n",
            "August 2013, the Company changed its name to MongoDB, Inc. The Company is headquartered in New York City. MongoDB is the leading, modem, general\n",
            "purpose database platform. The Company's robust platform enables developers to build and modemize applications rapidly and cost-effectively  across a broad\n",
            "range ofuse cases. Organizations can deploy the Company's platform at scale in the cloud, on-premise or in a hybrid environment. In addition to selling its\n",
            "software, the Company provides post-contract support, training and consulting services for its offerings. The Company's fiscal year ends January 3 1.\n",
            "2. Summary of Signilicant Accounting Policies\n",
            "Busi.t ol f't esenlatiou\n",
            "The accompanying interim condensed consolidated balance sheet as of October 31, 2020, the interim condensed consolidated statements of stockholders'\n",
            "equity for the three and nine months ended October 3 I , 2020 and 20 I 9, the interim condensed consolidated statements of operations and of comprehensive loss for\n",
            "the three and nine months ended October 3 I , 2020 and 20 I 9 and the interim condensed consolidated statements of cash flows for the nine months ended October\n",
            "31,2020 and 2019 are unaudited. The interim unaudited condensed consolidated financial statements have been prepared on a basis consistent with the annual\n",
            "consolidated financial statements and, in the opinion ofmanagement, reflect all adjustments, which include only normal recurring adjustments,  necessary to state\n",
            "fairly the Company's financial position as ofOctober 31,2020, its statements ofstockholders' equity as ofOctober 31,2020 and2019, its results ofoperations and\n",
            "of comprehensive loss for the three and nine months ended October 31, 2020 and 20 I 9 and its statements of cash flows for the nine months ended October 3 I ,\n",
            "2020 and 2019. The financial data and the other financial information disclosed in the notes to these interim condensed consolidated financial statements related to\n",
            "the three- and nine-month periods are also unaudited. The results ofoperations for the three and nine months ended October 31,2020 are not necessarily indicative\n",
            "of the results to be expected for the fiscal year ending January 31, 2021 or for any other future year or interim period.\n",
            "The interim unaudited condensed consolidated financial statements have been prepared in accordance with accounting principles generally accepted in the\n",
            "United States of America C'U.S. GAAP\") and include the accounts of the Company and its wholly owned subsidiaries. All intercompany transactions  and accounts\n",
            "have been eliminated. Certain information and note disclosures normally included in the financial statements prepared in accordance with U.S. CAAP have been\n",
            "condensed or omitted pursuant to the applicable rules and regulations ofthe Securities and Exchange Commission. The condensed balance sheet data as ofJanuary\n",
            "31,2020 was derived from the Company's audited financial statements, but does not include all disclosures required by U.S. GAAP. Therefore, these interim\n",
            "unaudited condensed consolidated financial statements and accompanying footnotes should be read in conjunction with the Company's bnnual consolidated\n",
            "financial statements and related footnotes included in its Annual Report on Form l0-K for the fiscal year ended January 31,2020 (the\"2020 Form l0-K\").\n",
            "Lj.sc rl Estirnates\n",
            "The preparation of the interim unaudited condensed consolidated financial statements in conformity with U.S. GAAP requires management to make\n",
            "estimates, assumptions andjudgments that affect the reported amounts ofassets and liabilities, disclosure ofcontingent assets and liabilities at the date ofthe\n",
            "financial statements and the reported amounts ofrevenue and expenses during the reporting period. Such estimates include, but are not limited to, revenue\n",
            "recognition, allowances for doubtful accounts, the incremental borrowing rate related to the Company's lease liabilities, stock-based compensation, fair value of\n",
            "the liability component ofthe convertible debt, fair value ofcommon stock prior to the initial public offering, legal contingencies, fair value ofacquired intangible\n",
            "assets and goodwill, useful lives ofacquired intangible assets and property and equipment, fair value ofnon-marketable securities and accounting for income taxes.\n",
            "The Company bases these estimates on historical and anticipated results, trends and various other assumptions that it believes are reasonable under the\n",
            "circumstances,  including assumptions as to future events.\n",
            "The ongoing COVID- l9 pandemic has resulted in a global slowdown of economic activity that is likely to continue to decrease demand for a broad variety\n",
            "of goods and services, including from the Company's customers, while also disrupting sales channels and marketing activities for an unknown period of time. The\n",
            "Company currently expects its revenue to continue to be negatively impacted by the slowdown in activity associated with the ongoing COVID-I9 pandemic in the\n",
            "near-term.\n"
          ],
          "name": "stdout"
        }
      ]
    },
    {
      "cell_type": "code",
      "metadata": {
        "id": "3Aqk4dtf87xP",
        "colab": {
          "base_uri": "https://localhost:8080/",
          "height": 136
        },
        "outputId": "26bf471a-d6dc-4f4b-de47-a60992c04369"
      },
      "source": [
        "text = first_page.extract_text().replace('I ahle ol (l0ntcnts\\n','').replace(\r\n",
        "    \"Busi.t ol f't esenlatiou\\n\",'').replace('Lj.sc rl Estirnates\\n','')\r\n",
        "\r\n",
        "text"
      ],
      "execution_count": 4,
      "outputs": [
        {
          "output_type": "execute_result",
          "data": {
            "application/vnd.google.colaboratory.intrinsic+json": {
              "type": "string"
            },
            "text/plain": [
              "'MONGODB, INC.\\nNOTES TO UNAUDITED CONDENSED CONSOLIDATED FINANCIAL STATEMENTS\\nl. \\nOrganization and Description ofBusiness\\nMongoDB, Inc. (\"MongoDB\" or the \"Company\") was originally incorporated in the state of Delaware in November 2007 under the name l0Gen, Inc. In\\nAugust 2013, the Company changed its name to MongoDB, Inc. The Company is headquartered in New York City. MongoDB is the leading, modem, general\\npurpose database platform. The Company\\'s robust platform enables developers to build and modemize applications rapidly and cost-effectively  across a broad\\nrange ofuse cases. Organizations can deploy the Company\\'s platform at scale in the cloud, on-premise or in a hybrid environment. In addition to selling its\\nsoftware, the Company provides post-contract support, training and consulting services for its offerings. The Company\\'s fiscal year ends January 3 1.\\n2. Summary of Signilicant Accounting Policies\\nThe accompanying interim condensed consolidated balance sheet as of October 31, 2020, the interim condensed consolidated statements of stockholders\\'\\nequity for the three and nine months ended October 3 I , 2020 and 20 I 9, the interim condensed consolidated statements of operations and of comprehensive loss for\\nthe three and nine months ended October 3 I , 2020 and 20 I 9 and the interim condensed consolidated statements of cash flows for the nine months ended October\\n31,2020 and 2019 are unaudited. The interim unaudited condensed consolidated financial statements have been prepared on a basis consistent with the annual\\nconsolidated financial statements and, in the opinion ofmanagement, reflect all adjustments, which include only normal recurring adjustments,  necessary to state\\nfairly the Company\\'s financial position as ofOctober 31,2020, its statements ofstockholders\\' equity as ofOctober 31,2020 and2019, its results ofoperations and\\nof comprehensive loss for the three and nine months ended October 31, 2020 and 20 I 9 and its statements of cash flows for the nine months ended October 3 I ,\\n2020 and 2019. The financial data and the other financial information disclosed in the notes to these interim condensed consolidated financial statements related to\\nthe three- and nine-month periods are also unaudited. The results ofoperations for the three and nine months ended October 31,2020 are not necessarily indicative\\nof the results to be expected for the fiscal year ending January 31, 2021 or for any other future year or interim period.\\nThe interim unaudited condensed consolidated financial statements have been prepared in accordance with accounting principles generally accepted in the\\nUnited States of America C\\'U.S. GAAP\") and include the accounts of the Company and its wholly owned subsidiaries. All intercompany transactions  and accounts\\nhave been eliminated. Certain information and note disclosures normally included in the financial statements prepared in accordance with U.S. CAAP have been\\ncondensed or omitted pursuant to the applicable rules and regulations ofthe Securities and Exchange Commission. The condensed balance sheet data as ofJanuary\\n31,2020 was derived from the Company\\'s audited financial statements, but does not include all disclosures required by U.S. GAAP. Therefore, these interim\\nunaudited condensed consolidated financial statements and accompanying footnotes should be read in conjunction with the Company\\'s bnnual consolidated\\nfinancial statements and related footnotes included in its Annual Report on Form l0-K for the fiscal year ended January 31,2020 (the\"2020 Form l0-K\").\\nThe preparation of the interim unaudited condensed consolidated financial statements in conformity with U.S. GAAP requires management to make\\nestimates, assumptions andjudgments that affect the reported amounts ofassets and liabilities, disclosure ofcontingent assets and liabilities at the date ofthe\\nfinancial statements and the reported amounts ofrevenue and expenses during the reporting period. Such estimates include, but are not limited to, revenue\\nrecognition, allowances for doubtful accounts, the incremental borrowing rate related to the Company\\'s lease liabilities, stock-based compensation, fair value of\\nthe liability component ofthe convertible debt, fair value ofcommon stock prior to the initial public offering, legal contingencies, fair value ofacquired intangible\\nassets and goodwill, useful lives ofacquired intangible assets and property and equipment, fair value ofnon-marketable securities and accounting for income taxes.\\nThe Company bases these estimates on historical and anticipated results, trends and various other assumptions that it believes are reasonable under the\\ncircumstances,  including assumptions as to future events.\\nThe ongoing COVID- l9 pandemic has resulted in a global slowdown of economic activity that is likely to continue to decrease demand for a broad variety\\nof goods and services, including from the Company\\'s customers, while also disrupting sales channels and marketing activities for an unknown period of time. The\\nCompany currently expects its revenue to continue to be negatively impacted by the slowdown in activity associated with the ongoing COVID-I9 pandemic in the\\nnear-term.'"
            ]
          },
          "metadata": {
            "tags": []
          },
          "execution_count": 4
        }
      ]
    },
    {
      "cell_type": "markdown",
      "metadata": {
        "id": "71D_SiFYcnOY"
      },
      "source": [
        "###**Text Cleaning**"
      ]
    },
    {
      "cell_type": "markdown",
      "metadata": {
        "id": "OecQ1gY6d39_"
      },
      "source": [
        "####Using REGEX"
      ]
    },
    {
      "cell_type": "code",
      "metadata": {
        "id": "jgpDm08j9xuR",
        "colab": {
          "base_uri": "https://localhost:8080/",
          "height": 136
        },
        "outputId": "c71e5eda-8239-4445-e0f7-d98a38204c1f"
      },
      "source": [
        "# texts = re.sub(r'\\W',' ', text)\r\n",
        "texts = re.sub(r'\\d+',' ', text)\r\n",
        "texts = re.sub(r'[\",\\'!@#$%^&*(){}?/;`~:<>+=-]',' ', texts)\r\n",
        "texts = re.sub(r'\\s',' ',texts)\r\n",
        "texts = re.sub(r'\\bl\\b',' ',texts)\r\n",
        "texts = re.sub(r'\\b [.$]+',' ',texts)\r\n",
        "texts = re.sub(r'\\bi\\b',' ',texts)\r\n",
        "texts = re.sub(r'\\bi.\\b ','',texts)\r\n",
        "texts = re.sub(r'[  \\b.\\b ]+',' ',texts)\r\n",
        "texts = texts.lower()\r\n",
        "texts"
      ],
      "execution_count": 5,
      "outputs": [
        {
          "output_type": "execute_result",
          "data": {
            "application/vnd.google.colaboratory.intrinsic+json": {
              "type": "string"
            },
            "text/plain": [
              "'mongodb inc notes to unaudited condensed consolidated financial statements organization and description ofbusiness mongodb inc mongodb or the company was originally incorporated the state of delaware november under the name gen inc in august the company changed its name to mongodb inc the company headquartered new york city mongodb the leading modem general purpose database platform the company s robust platform enables developers to build and modemize applications rapidly and cost effectively across a broad range ofuse cases organizations can deploy the company s platform at scale the cloud on premise or a hybrid environment in addition to selling its software the company provides post contract support training and consulting services for its offerings the company s fiscal year ends january summary of signilicant accounting policies the accompanying interim condensed consolidated balance sheet as of october the interim condensed consolidated statements of stockholders equity for the three and nine months ended october i and i the interim condensed consolidated statements of operations and of comprehensive loss for the three and nine months ended october i and i and the interim condensed consolidated statements of cash flows for the nine months ended october and are unaudited the interim unaudited condensed consolidated financial statements have been prepared on a basis consistent with the annual consolidated financial statements and the opinion ofmanagement reflect all adjustments which include only normal recurring adjustments necessary to state fairly the company s financial position as ofoctober its statements ofstockholders equity as ofoctober and its results ofoperations and of comprehensive loss for the three and nine months ended october and i and its statements of cash flows for the nine months ended october i and the financial data and the other financial information disclosed the notes to these interim condensed consolidated financial statements related to the three and nine month periods are also unaudited the results ofoperations for the three and nine months ended october are not necessarily indicative of the results to be expected for the fiscal year ending january or for any other future year or interim period the interim unaudited condensed consolidated financial statements have been prepared accordance with accounting principles generally accepted the united states of america c u s gaap and include the accounts of the company and its wholly owned subsidiaries all intercompany transactions and accounts have been eliminated certain information and note disclosures normally included the financial statements prepared accordance with u s caap have been condensed or omitted pursuant to the applicable rules and regulations ofthe securities and exchange commission the condensed balance sheet data as ofjanuary was derived from the company s audited financial statements but does not include all disclosures required by u s gaap therefore these interim unaudited condensed consolidated financial statements and accompanying footnotes should be read conjunction with the company s bnnual consolidated financial statements and related footnotes included its annual report on form k for the fiscal year ended january the form k the preparation of the interim unaudited condensed consolidated financial statements conformity with u s gaap requires management to make estimates assumptions andjudgments that affect the reported amounts ofassets and liabilities disclosure ofcontingent assets and liabilities at the date ofthe financial statements and the reported amounts ofrevenue and expenses during the reporting period such estimates include but are not limited to revenue recognition allowances for doubtful accounts the incremental borrowing rate related to the company s lease liabilities stock based compensation fair value of the liability component ofthe convertible debt fair value ofcommon stock prior to the initial public offering legal contingencies fair value ofacquired intangible assets and goodwill useful lives ofacquired intangible assets and property and equipment fair value ofnon marketable securities and accounting for income taxes the company bases these estimates on historical and anticipated results trends and various other assumptions that believes are reasonable under the circumstances including assumptions as to future events the ongoing covid pandemic has resulted a global slowdown of economic activity that likely to continue to decrease demand for a broad variety of goods and services including from the company s customers while also disrupting sales channels and marketing activities for an unknown period of time the company currently expects its revenue to continue to be negatively impacted by the slowdown activity associated with the ongoing covid i pandemic the near term '"
            ]
          },
          "metadata": {
            "tags": []
          },
          "execution_count": 5
        }
      ]
    },
    {
      "cell_type": "code",
      "metadata": {
        "id": "8RUYfx-QrkUg"
      },
      "source": [
        "# txt = re.sub(r'company s ','companys ',texts)\r\n",
        "# txt"
      ],
      "execution_count": 6,
      "outputs": []
    },
    {
      "cell_type": "code",
      "metadata": {
        "id": "qh_GnE5xtVi5"
      },
      "source": [
        "# txt = re.sub(r'[\\bi\\b]*?','',txt)\r\n",
        "# txt"
      ],
      "execution_count": 7,
      "outputs": []
    },
    {
      "cell_type": "code",
      "metadata": {
        "id": "TKB7dWCiCOFQ",
        "colab": {
          "base_uri": "https://localhost:8080/",
          "height": 136
        },
        "outputId": "9d8252d6-4a40-41a9-da71-5ea6df12c3f5"
      },
      "source": [
        "doc = re.findall(\"[a-zA-Z]+\",text)\r\n",
        "doc = (\" \".join(doc))\r\n",
        "doc = doc.lower()\r\n",
        "doc"
      ],
      "execution_count": 8,
      "outputs": [
        {
          "output_type": "execute_result",
          "data": {
            "application/vnd.google.colaboratory.intrinsic+json": {
              "type": "string"
            },
            "text/plain": [
              "'mongodb inc notes to unaudited condensed consolidated financial statements l organization and description ofbusiness mongodb inc mongodb or the company was originally incorporated in the state of delaware in november under the name l gen inc in august the company changed its name to mongodb inc the company is headquartered in new york city mongodb is the leading modem general purpose database platform the company s robust platform enables developers to build and modemize applications rapidly and cost effectively across a broad range ofuse cases organizations can deploy the company s platform at scale in the cloud on premise or in a hybrid environment in addition to selling its software the company provides post contract support training and consulting services for its offerings the company s fiscal year ends january summary of signilicant accounting policies the accompanying interim condensed consolidated balance sheet as of october the interim condensed consolidated statements of stockholders equity for the three and nine months ended october i and i the interim condensed consolidated statements of operations and of comprehensive loss for the three and nine months ended october i and i and the interim condensed consolidated statements of cash flows for the nine months ended october and are unaudited the interim unaudited condensed consolidated financial statements have been prepared on a basis consistent with the annual consolidated financial statements and in the opinion ofmanagement reflect all adjustments which include only normal recurring adjustments necessary to state fairly the company s financial position as ofoctober its statements ofstockholders equity as ofoctober and its results ofoperations and of comprehensive loss for the three and nine months ended october and i and its statements of cash flows for the nine months ended october i and the financial data and the other financial information disclosed in the notes to these interim condensed consolidated financial statements related to the three and nine month periods are also unaudited the results ofoperations for the three and nine months ended october are not necessarily indicative of the results to be expected for the fiscal year ending january or for any other future year or interim period the interim unaudited condensed consolidated financial statements have been prepared in accordance with accounting principles generally accepted in the united states of america c u s gaap and include the accounts of the company and its wholly owned subsidiaries all intercompany transactions and accounts have been eliminated certain information and note disclosures normally included in the financial statements prepared in accordance with u s caap have been condensed or omitted pursuant to the applicable rules and regulations ofthe securities and exchange commission the condensed balance sheet data as ofjanuary was derived from the company s audited financial statements but does not include all disclosures required by u s gaap therefore these interim unaudited condensed consolidated financial statements and accompanying footnotes should be read in conjunction with the company s bnnual consolidated financial statements and related footnotes included in its annual report on form l k for the fiscal year ended january the form l k the preparation of the interim unaudited condensed consolidated financial statements in conformity with u s gaap requires management to make estimates assumptions andjudgments that affect the reported amounts ofassets and liabilities disclosure ofcontingent assets and liabilities at the date ofthe financial statements and the reported amounts ofrevenue and expenses during the reporting period such estimates include but are not limited to revenue recognition allowances for doubtful accounts the incremental borrowing rate related to the company s lease liabilities stock based compensation fair value of the liability component ofthe convertible debt fair value ofcommon stock prior to the initial public offering legal contingencies fair value ofacquired intangible assets and goodwill useful lives ofacquired intangible assets and property and equipment fair value ofnon marketable securities and accounting for income taxes the company bases these estimates on historical and anticipated results trends and various other assumptions that it believes are reasonable under the circumstances including assumptions as to future events the ongoing covid l pandemic has resulted in a global slowdown of economic activity that is likely to continue to decrease demand for a broad variety of goods and services including from the company s customers while also disrupting sales channels and marketing activities for an unknown period of time the company currently expects its revenue to continue to be negatively impacted by the slowdown in activity associated with the ongoing covid i pandemic in the near term'"
            ]
          },
          "metadata": {
            "tags": []
          },
          "execution_count": 8
        }
      ]
    },
    {
      "cell_type": "markdown",
      "metadata": {
        "id": "mJyVAezOLwVl"
      },
      "source": [
        "####**NLTK Embedding**\r\n"
      ]
    },
    {
      "cell_type": "markdown",
      "metadata": {
        "id": "jsFGtCbxfRzJ"
      },
      "source": [
        "1. Text preprocessing is done with NLTK library\r\n",
        "2. **Gensim** is used forword embedding."
      ]
    },
    {
      "cell_type": "code",
      "metadata": {
        "id": "9pT61LX2FjcU",
        "colab": {
          "base_uri": "https://localhost:8080/"
        },
        "outputId": "61dadede-523e-43c0-e4e1-cc18872490c9"
      },
      "source": [
        "stop_words = set(stopwords.words('english')) \r\n",
        "word_tokens = word_tokenize(texts) \r\n",
        "nltk_filtered = [word for word in word_tokens if word not in stopwords.words()]\r\n",
        "# print(nltk_filtered[1:10])\r\n",
        "# print(len(nltk_filtered))\r\n",
        "# Stemming\r\n",
        "ps =PorterStemmer()\r\n",
        "stem_words = [ps.stem(w) for w in nltk_filtered]\r\n",
        "print(\"Stem_words: \",stem_words)   \r\n",
        "print(\"Len_of Stem_words: \",len(stem_words), \"\\n\\n\")\r\n",
        "# Lemmatization\r\n",
        "wordnet_lemmatizer = WordNetLemmatizer()\r\n",
        "lemma_nltk= [wordnet_lemmatizer.lemmatize(w) for w in nltk_filtered]\r\n",
        "print(\"Lemmatized_words: \",lemma_nltk)\r\n",
        "print(\"Len_of Lemmatized_words: \", len(lemma_nltk))"
      ],
      "execution_count": 9,
      "outputs": [
        {
          "output_type": "stream",
          "text": [
            "Stem_words:  ['mongodb', 'inc', 'note', 'unaudit', 'condens', 'consolid', 'financi', 'statement', 'organ', 'descript', 'ofbusi', 'mongodb', 'inc', 'mongodb', 'compani', 'origin', 'incorpor', 'state', 'delawar', 'novemb', 'gen', 'inc', 'august', 'compani', 'chang', 'mongodb', 'inc', 'compani', 'headquart', 'new', 'york', 'citi', 'mongodb', 'lead', 'modem', 'gener', 'purpos', 'databas', 'platform', 'compani', 'robust', 'platform', 'enabl', 'develop', 'build', 'modem', 'applic', 'rapidli', 'cost', 'effect', 'across', 'broad', 'rang', 'ofus', 'case', 'organ', 'deploy', 'compani', 'platform', 'scale', 'cloud', 'premis', 'hybrid', 'environ', 'addit', 'sell', 'softwar', 'compani', 'provid', 'post', 'contract', 'support', 'train', 'consult', 'servic', 'offer', 'compani', 'fiscal', 'year', 'end', 'januari', 'summari', 'signilic', 'account', 'polici', 'accompani', 'interim', 'condens', 'consolid', 'balanc', 'sheet', 'octob', 'interim', 'condens', 'consolid', 'statement', 'stockhold', 'equiti', 'three', 'nine', 'month', 'end', 'octob', 'interim', 'condens', 'consolid', 'statement', 'oper', 'comprehens', 'loss', 'three', 'nine', 'month', 'end', 'octob', 'interim', 'condens', 'consolid', 'statement', 'cash', 'flow', 'nine', 'month', 'end', 'octob', 'unaudit', 'interim', 'unaudit', 'condens', 'consolid', 'financi', 'statement', 'prepar', 'basi', 'consist', 'annual', 'consolid', 'financi', 'statement', 'opinion', 'ofmanag', 'reflect', 'adjust', 'includ', 'normal', 'recur', 'adjust', 'necessari', 'state', 'fairli', 'compani', 'financi', 'posit', 'ofoctob', 'statement', 'ofstockhold', 'equiti', 'ofoctob', 'result', 'ofoper', 'comprehens', 'loss', 'three', 'nine', 'month', 'end', 'octob', 'statement', 'cash', 'flow', 'nine', 'month', 'end', 'octob', 'financi', 'data', 'financi', 'inform', 'disclos', 'note', 'interim', 'condens', 'consolid', 'financi', 'statement', 'relat', 'three', 'nine', 'month', 'period', 'unaudit', 'result', 'ofoper', 'three', 'nine', 'month', 'end', 'octob', 'necessarili', 'indic', 'result', 'expect', 'fiscal', 'year', 'end', 'januari', 'futur', 'year', 'interim', 'period', 'interim', 'unaudit', 'condens', 'consolid', 'financi', 'statement', 'prepar', 'accord', 'account', 'principl', 'gener', 'accept', 'unit', 'state', 'america', 'gaap', 'includ', 'account', 'compani', 'wholli', 'own', 'subsidiari', 'intercompani', 'transact', 'account', 'elimin', 'certain', 'inform', 'note', 'disclosur', 'normal', 'includ', 'financi', 'statement', 'prepar', 'accord', 'caap', 'condens', 'omit', 'pursuant', 'applic', 'rule', 'regul', 'ofth', 'secur', 'exchang', 'commiss', 'condens', 'balanc', 'sheet', 'data', 'ofjanuari', 'deriv', 'compani', 'audit', 'financi', 'statement', 'includ', 'disclosur', 'requir', 'gaap', 'therefor', 'interim', 'unaudit', 'condens', 'consolid', 'financi', 'statement', 'accompani', 'footnot', 'read', 'conjunct', 'compani', 'bnnual', 'consolid', 'financi', 'statement', 'relat', 'footnot', 'includ', 'annual', 'report', 'form', 'fiscal', 'year', 'end', 'januari', 'form', 'prepar', 'interim', 'unaudit', 'condens', 'consolid', 'financi', 'statement', 'conform', 'gaap', 'requir', 'manag', 'make', 'estim', 'assumpt', 'andjudg', 'affect', 'report', 'amount', 'ofasset', 'liabil', 'disclosur', 'ofconting', 'asset', 'liabil', 'date', 'ofth', 'financi', 'statement', 'report', 'amount', 'ofrevenu', 'expens', 'report', 'period', 'estim', 'includ', 'limit', 'revenu', 'recognit', 'allow', 'doubt', 'account', 'increment', 'borrow', 'rate', 'relat', 'compani', 'leas', 'liabil', 'stock', 'base', 'compens', 'fair', 'valu', 'liabil', 'compon', 'ofth', 'convert', 'debt', 'fair', 'valu', 'ofcommon', 'stock', 'prior', 'initi', 'public', 'offer', 'legal', 'conting', 'fair', 'valu', 'ofacquir', 'intang', 'asset', 'goodwil', 'use', 'live', 'ofacquir', 'intang', 'asset', 'properti', 'equip', 'fair', 'valu', 'ofnon', 'market', 'secur', 'account', 'incom', 'tax', 'compani', 'base', 'estim', 'histor', 'anticip', 'result', 'trend', 'variou', 'assumpt', 'believ', 'reason', 'circumst', 'includ', 'assumpt', 'futur', 'event', 'ongo', 'covid', 'pandem', 'result', 'global', 'slowdown', 'econom', 'activ', 'like', 'continu', 'decreas', 'demand', 'broad', 'varieti', 'good', 'servic', 'includ', 'compani', 'custom', 'disrupt', 'sale', 'channel', 'market', 'activ', 'unknown', 'period', 'time', 'compani', 'current', 'expect', 'revenu', 'continu', 'neg', 'impact', 'slowdown', 'activ', 'associ', 'ongo', 'covid', 'pandem', 'near', 'term']\n",
            "Len_of Stem_words:  446 \n",
            "\n",
            "\n",
            "Lemmatized_words:  ['mongodb', 'inc', 'note', 'unaudited', 'condensed', 'consolidated', 'financial', 'statement', 'organization', 'description', 'ofbusiness', 'mongodb', 'inc', 'mongodb', 'company', 'originally', 'incorporated', 'state', 'delaware', 'november', 'gen', 'inc', 'august', 'company', 'changed', 'mongodb', 'inc', 'company', 'headquartered', 'new', 'york', 'city', 'mongodb', 'leading', 'modem', 'general', 'purpose', 'database', 'platform', 'company', 'robust', 'platform', 'enables', 'developer', 'build', 'modemize', 'application', 'rapidly', 'cost', 'effectively', 'across', 'broad', 'range', 'ofuse', 'case', 'organization', 'deploy', 'company', 'platform', 'scale', 'cloud', 'premise', 'hybrid', 'environment', 'addition', 'selling', 'software', 'company', 'provides', 'post', 'contract', 'support', 'training', 'consulting', 'service', 'offering', 'company', 'fiscal', 'year', 'end', 'january', 'summary', 'signilicant', 'accounting', 'policy', 'accompanying', 'interim', 'condensed', 'consolidated', 'balance', 'sheet', 'october', 'interim', 'condensed', 'consolidated', 'statement', 'stockholder', 'equity', 'three', 'nine', 'month', 'ended', 'october', 'interim', 'condensed', 'consolidated', 'statement', 'operation', 'comprehensive', 'loss', 'three', 'nine', 'month', 'ended', 'october', 'interim', 'condensed', 'consolidated', 'statement', 'cash', 'flow', 'nine', 'month', 'ended', 'october', 'unaudited', 'interim', 'unaudited', 'condensed', 'consolidated', 'financial', 'statement', 'prepared', 'basis', 'consistent', 'annual', 'consolidated', 'financial', 'statement', 'opinion', 'ofmanagement', 'reflect', 'adjustment', 'include', 'normal', 'recurring', 'adjustment', 'necessary', 'state', 'fairly', 'company', 'financial', 'position', 'ofoctober', 'statement', 'ofstockholders', 'equity', 'ofoctober', 'result', 'ofoperations', 'comprehensive', 'loss', 'three', 'nine', 'month', 'ended', 'october', 'statement', 'cash', 'flow', 'nine', 'month', 'ended', 'october', 'financial', 'data', 'financial', 'information', 'disclosed', 'note', 'interim', 'condensed', 'consolidated', 'financial', 'statement', 'related', 'three', 'nine', 'month', 'period', 'unaudited', 'result', 'ofoperations', 'three', 'nine', 'month', 'ended', 'october', 'necessarily', 'indicative', 'result', 'expected', 'fiscal', 'year', 'ending', 'january', 'future', 'year', 'interim', 'period', 'interim', 'unaudited', 'condensed', 'consolidated', 'financial', 'statement', 'prepared', 'accordance', 'accounting', 'principle', 'generally', 'accepted', 'united', 'state', 'america', 'gaap', 'include', 'account', 'company', 'wholly', 'owned', 'subsidiary', 'intercompany', 'transaction', 'account', 'eliminated', 'certain', 'information', 'note', 'disclosure', 'normally', 'included', 'financial', 'statement', 'prepared', 'accordance', 'caap', 'condensed', 'omitted', 'pursuant', 'applicable', 'rule', 'regulation', 'ofthe', 'security', 'exchange', 'commission', 'condensed', 'balance', 'sheet', 'data', 'ofjanuary', 'derived', 'company', 'audited', 'financial', 'statement', 'include', 'disclosure', 'required', 'gaap', 'therefore', 'interim', 'unaudited', 'condensed', 'consolidated', 'financial', 'statement', 'accompanying', 'footnote', 'read', 'conjunction', 'company', 'bnnual', 'consolidated', 'financial', 'statement', 'related', 'footnote', 'included', 'annual', 'report', 'form', 'fiscal', 'year', 'ended', 'january', 'form', 'preparation', 'interim', 'unaudited', 'condensed', 'consolidated', 'financial', 'statement', 'conformity', 'gaap', 'requires', 'management', 'make', 'estimate', 'assumption', 'andjudgments', 'affect', 'reported', 'amount', 'ofassets', 'liability', 'disclosure', 'ofcontingent', 'asset', 'liability', 'date', 'ofthe', 'financial', 'statement', 'reported', 'amount', 'ofrevenue', 'expense', 'reporting', 'period', 'estimate', 'include', 'limited', 'revenue', 'recognition', 'allowance', 'doubtful', 'account', 'incremental', 'borrowing', 'rate', 'related', 'company', 'lease', 'liability', 'stock', 'based', 'compensation', 'fair', 'value', 'liability', 'component', 'ofthe', 'convertible', 'debt', 'fair', 'value', 'ofcommon', 'stock', 'prior', 'initial', 'public', 'offering', 'legal', 'contingency', 'fair', 'value', 'ofacquired', 'intangible', 'asset', 'goodwill', 'useful', 'life', 'ofacquired', 'intangible', 'asset', 'property', 'equipment', 'fair', 'value', 'ofnon', 'marketable', 'security', 'accounting', 'income', 'tax', 'company', 'base', 'estimate', 'historical', 'anticipated', 'result', 'trend', 'various', 'assumption', 'belief', 'reasonable', 'circumstance', 'including', 'assumption', 'future', 'event', 'ongoing', 'covid', 'pandemic', 'resulted', 'global', 'slowdown', 'economic', 'activity', 'likely', 'continue', 'decrease', 'demand', 'broad', 'variety', 'good', 'service', 'including', 'company', 'customer', 'disrupting', 'sale', 'channel', 'marketing', 'activity', 'unknown', 'period', 'time', 'company', 'currently', 'expects', 'revenue', 'continue', 'negatively', 'impacted', 'slowdown', 'activity', 'associated', 'ongoing', 'covid', 'pandemic', 'near', 'term']\n",
            "Len_of Lemmatized_words:  446\n"
          ],
          "name": "stdout"
        }
      ]
    },
    {
      "cell_type": "code",
      "metadata": {
        "colab": {
          "base_uri": "https://localhost:8080/"
        },
        "id": "ub2FyqU2Nksh",
        "outputId": "7ceec07f-5bf0-42c3-aae3-1b92e83747cb"
      },
      "source": [
        "# BOW corpus\r\n",
        "lemma_nltk_arr = np.array(lemma_nltk)\r\n",
        "id2word = corpora.Dictionary([lemma_nltk])\r\n",
        "corpus = [id2word.doc2bow(text) for text in [lemma_nltk]]\r\n",
        "print(\"corpus: \",corpus)"
      ],
      "execution_count": 10,
      "outputs": [
        {
          "output_type": "stream",
          "text": [
            "corpus:  [[(0, 1), (1, 2), (2, 2), (3, 3), (4, 3), (5, 1), (6, 3), (7, 1), (8, 2), (9, 1), (10, 1), (11, 1), (12, 2), (13, 1), (14, 2), (15, 1), (16, 1), (17, 1), (18, 3), (19, 1), (20, 3), (21, 1), (22, 1), (23, 2), (24, 1), (25, 1), (26, 1), (27, 1), (28, 1), (29, 1), (30, 2), (31, 1), (32, 1), (33, 1), (34, 2), (35, 1), (36, 1), (37, 1), (38, 1), (39, 1), (40, 1), (41, 1), (42, 15), (43, 1), (44, 1), (45, 2), (46, 12), (47, 1), (48, 1), (49, 1), (50, 12), (51, 1), (52, 1), (53, 2), (54, 1), (55, 1), (56, 1), (57, 2), (58, 1), (59, 1), (60, 2), (61, 1), (62, 1), (63, 1), (64, 1), (65, 1), (66, 1), (67, 1), (68, 1), (69, 1), (70, 1), (71, 1), (72, 3), (73, 1), (74, 1), (75, 1), (76, 1), (77, 1), (78, 1), (79, 1), (80, 7), (81, 1), (82, 1), (83, 1), (84, 2), (85, 3), (86, 1), (87, 1), (88, 1), (89, 1), (90, 1), (91, 4), (92, 1), (93, 14), (94, 3), (95, 2), (96, 2), (97, 2), (98, 2), (99, 3), (100, 1), (101, 1), (102, 1), (103, 1), (104, 1), (105, 1), (106, 1), (107, 1), (108, 1), (109, 1), (110, 4), (111, 4), (112, 2), (113, 2), (114, 1), (115, 1), (116, 1), (117, 1), (118, 2), (119, 1), (120, 2), (121, 1), (122, 10), (123, 3), (124, 1), (125, 1), (126, 1), (127, 4), (128, 1), (129, 1), (130, 1), (131, 2), (132, 1), (133, 1), (134, 1), (135, 1), (136, 1), (137, 1), (138, 5), (139, 7), (140, 1), (141, 1), (142, 1), (143, 1), (144, 1), (145, 7), (146, 1), (147, 1), (148, 3), (149, 1), (150, 7), (151, 2), (152, 1), (153, 1), (154, 1), (155, 1), (156, 2), (157, 1), (158, 1), (159, 1), (160, 2), (161, 2), (162, 1), (163, 1), (164, 3), (165, 1), (166, 1), (167, 2), (168, 1), (169, 1), (170, 2), (171, 1), (172, 1), (173, 2), (174, 4), (175, 3), (176, 1), (177, 1), (178, 1), (179, 1), (180, 1), (181, 3), (182, 1), (183, 1), (184, 1), (185, 1), (186, 1), (187, 1), (188, 1), (189, 1), (190, 1), (191, 1), (192, 1), (193, 1), (194, 1), (195, 1), (196, 1), (197, 1), (198, 3), (199, 1), (200, 2), (201, 1), (202, 1), (203, 1), (204, 4), (205, 1), (206, 2), (207, 1), (208, 1), (209, 1), (210, 1), (211, 2), (212, 1), (213, 2), (214, 2), (215, 1), (216, 2), (217, 1), (218, 3), (219, 16), (220, 2), (221, 1), (222, 1), (223, 1), (224, 1), (225, 1), (226, 1), (227, 1), (228, 5), (229, 1), (230, 1), (231, 1), (232, 1), (233, 7), (234, 1), (235, 1), (236, 1), (237, 4), (238, 1), (239, 1), (240, 1), (241, 4), (242, 1)]]\n"
          ],
          "name": "stdout"
        }
      ]
    },
    {
      "cell_type": "code",
      "metadata": {
        "colab": {
          "base_uri": "https://localhost:8080/"
        },
        "id": "YFc__C_gQmod",
        "outputId": "daa24227-279a-4092-fe75-3ec804f9ea85"
      },
      "source": [
        "# TFIDF corpus\r\n",
        "tfidf = models.TfidfModel(corpus)\r\n",
        "corpus_tfidf = tfidf[corpus]\r\n",
        "word_weight =[] \r\n",
        "for doc in corpus: \r\n",
        "  for id, freq in doc: \r\n",
        "    word_weight.append([id2word[id], np.around(freq,decimals=3)]) \r\n",
        "print(word_weight) \r\n",
        "    "
      ],
      "execution_count": 22,
      "outputs": [
        {
          "output_type": "stream",
          "text": [
            "[['accepted', 1], ['accompanying', 2], ['accordance', 2], ['account', 3], ['accounting', 3], ['across', 1], ['activity', 3], ['addition', 1], ['adjustment', 2], ['affect', 1], ['allowance', 1], ['america', 1], ['amount', 2], ['andjudgments', 1], ['annual', 2], ['anticipated', 1], ['applicable', 1], ['application', 1], ['asset', 3], ['associated', 1], ['assumption', 3], ['audited', 1], ['august', 1], ['balance', 2], ['base', 1], ['based', 1], ['basis', 1], ['belief', 1], ['bnnual', 1], ['borrowing', 1], ['broad', 2], ['build', 1], ['caap', 1], ['case', 1], ['cash', 2], ['certain', 1], ['changed', 1], ['channel', 1], ['circumstance', 1], ['city', 1], ['cloud', 1], ['commission', 1], ['company', 15], ['compensation', 1], ['component', 1], ['comprehensive', 2], ['condensed', 12], ['conformity', 1], ['conjunction', 1], ['consistent', 1], ['consolidated', 12], ['consulting', 1], ['contingency', 1], ['continue', 2], ['contract', 1], ['convertible', 1], ['cost', 1], ['covid', 2], ['currently', 1], ['customer', 1], ['data', 2], ['database', 1], ['date', 1], ['debt', 1], ['decrease', 1], ['delaware', 1], ['demand', 1], ['deploy', 1], ['derived', 1], ['description', 1], ['developer', 1], ['disclosed', 1], ['disclosure', 3], ['disrupting', 1], ['doubtful', 1], ['economic', 1], ['effectively', 1], ['eliminated', 1], ['enables', 1], ['end', 1], ['ended', 7], ['ending', 1], ['environment', 1], ['equipment', 1], ['equity', 2], ['estimate', 3], ['event', 1], ['exchange', 1], ['expected', 1], ['expects', 1], ['expense', 1], ['fair', 4], ['fairly', 1], ['financial', 14], ['fiscal', 3], ['flow', 2], ['footnote', 2], ['form', 2], ['future', 2], ['gaap', 3], ['gen', 1], ['general', 1], ['generally', 1], ['global', 1], ['good', 1], ['goodwill', 1], ['headquartered', 1], ['historical', 1], ['hybrid', 1], ['impacted', 1], ['inc', 4], ['include', 4], ['included', 2], ['including', 2], ['income', 1], ['incorporated', 1], ['incremental', 1], ['indicative', 1], ['information', 2], ['initial', 1], ['intangible', 2], ['intercompany', 1], ['interim', 10], ['january', 3], ['leading', 1], ['lease', 1], ['legal', 1], ['liability', 4], ['life', 1], ['likely', 1], ['limited', 1], ['loss', 2], ['make', 1], ['management', 1], ['marketable', 1], ['marketing', 1], ['modem', 1], ['modemize', 1], ['mongodb', 5], ['month', 7], ['near', 1], ['necessarily', 1], ['necessary', 1], ['negatively', 1], ['new', 1], ['nine', 7], ['normal', 1], ['normally', 1], ['note', 3], ['november', 1], ['october', 7], ['ofacquired', 2], ['ofassets', 1], ['ofbusiness', 1], ['ofcommon', 1], ['ofcontingent', 1], ['offering', 2], ['ofjanuary', 1], ['ofmanagement', 1], ['ofnon', 1], ['ofoctober', 2], ['ofoperations', 2], ['ofrevenue', 1], ['ofstockholders', 1], ['ofthe', 3], ['ofuse', 1], ['omitted', 1], ['ongoing', 2], ['operation', 1], ['opinion', 1], ['organization', 2], ['originally', 1], ['owned', 1], ['pandemic', 2], ['period', 4], ['platform', 3], ['policy', 1], ['position', 1], ['post', 1], ['premise', 1], ['preparation', 1], ['prepared', 3], ['principle', 1], ['prior', 1], ['property', 1], ['provides', 1], ['public', 1], ['purpose', 1], ['pursuant', 1], ['range', 1], ['rapidly', 1], ['rate', 1], ['read', 1], ['reasonable', 1], ['recognition', 1], ['recurring', 1], ['reflect', 1], ['regulation', 1], ['related', 3], ['report', 1], ['reported', 2], ['reporting', 1], ['required', 1], ['requires', 1], ['result', 4], ['resulted', 1], ['revenue', 2], ['robust', 1], ['rule', 1], ['sale', 1], ['scale', 1], ['security', 2], ['selling', 1], ['service', 2], ['sheet', 2], ['signilicant', 1], ['slowdown', 2], ['software', 1], ['state', 3], ['statement', 16], ['stock', 2], ['stockholder', 1], ['subsidiary', 1], ['summary', 1], ['support', 1], ['tax', 1], ['term', 1], ['therefore', 1], ['three', 5], ['time', 1], ['training', 1], ['transaction', 1], ['trend', 1], ['unaudited', 7], ['united', 1], ['unknown', 1], ['useful', 1], ['value', 4], ['variety', 1], ['various', 1], ['wholly', 1], ['year', 4], ['york', 1]]\n"
          ],
          "name": "stdout"
        }
      ]
    },
    {
      "cell_type": "code",
      "metadata": {
        "id": "yOkFSjPCYogO"
      },
      "source": [
        "\r\n"
      ],
      "execution_count": 11,
      "outputs": []
    }
  ]
}